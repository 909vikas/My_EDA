{
 "cells": [
  {
   "cell_type": "code",
   "execution_count": 8,
   "id": "3dce4e52",
   "metadata": {},
   "outputs": [
    {
     "name": "stdout",
     "output_type": "stream",
     "text": [
      "1\n"
     ]
    }
   ],
   "source": [
    "x=10\n",
    "y=3\n",
    "z=x%y\n",
    "print(z)"
   ]
  },
  {
   "cell_type": "code",
   "execution_count": 13,
   "id": "0b41a9ee",
   "metadata": {},
   "outputs": [
    {
     "name": "stdout",
     "output_type": "stream",
     "text": [
      "enter the selling price of product34\n",
      "enter the cost price of product30\n",
      "the proft will be 4\n"
     ]
    }
   ],
   "source": [
    "sp=eval(input(\"enter the selling price of product\"))\n",
    "cp=eval(input(\"enter the cost price of product\"))\n",
    "profit=sp-cp\n",
    "print(f\"the proft will be {profit}\")"
   ]
  },
  {
   "cell_type": "code",
   "execution_count": 1,
   "id": "de22501e",
   "metadata": {},
   "outputs": [
    {
     "name": "stdout",
     "output_type": "stream",
     "text": [
      "enter the weight of object in grams :1230\n",
      "the weight will be 1kilos and 230grams\n"
     ]
    }
   ],
   "source": [
    "w1=eval(input(\"enter the weight of object in grams :\"))\n",
    "w2=w1//1000\n",
    "w3=w1%1000\n",
    "print(f\"the weight will be {w2}kilos and {w3}grams\")\n"
   ]
  },
  {
   "cell_type": "code",
   "execution_count": 6,
   "id": "c7388d13",
   "metadata": {},
   "outputs": [
    {
     "name": "stdout",
     "output_type": "stream",
     "text": [
      "enter a four digit number3456\n",
      "reverse of the number will be 6543\n"
     ]
    },
    {
     "data": {
      "text/plain": [
       "3"
      ]
     },
     "execution_count": 6,
     "metadata": {},
     "output_type": "execute_result"
    }
   ],
   "source": [
    "x=eval(input(\"enter a four digit number\"))\n",
    "r1=x%10\n",
    "q1=x//10\n",
    "r2=q1%10\n",
    "q2=q1//10\n",
    "r3=q2%10\n",
    "q3=q2//10\n",
    "r4=q3%10\n",
    "print(f\"reverse of the number will be {r1}{r2}{r3}{r4}\")\n",
    "q3"
   ]
  },
  {
   "cell_type": "code",
   "execution_count": null,
   "id": "89e6ae84",
   "metadata": {},
   "outputs": [],
   "source": []
  }
 ],
 "metadata": {
  "kernelspec": {
   "display_name": "Python 3 (ipykernel)",
   "language": "python",
   "name": "python3"
  },
  "language_info": {
   "codemirror_mode": {
    "name": "ipython",
    "version": 3
   },
   "file_extension": ".py",
   "mimetype": "text/x-python",
   "name": "python",
   "nbconvert_exporter": "python",
   "pygments_lexer": "ipython3",
   "version": "3.11.5"
  }
 },
 "nbformat": 4,
 "nbformat_minor": 5
}
