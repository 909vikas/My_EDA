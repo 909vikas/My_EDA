{
 "cells": [
  {
   "cell_type": "code",
   "execution_count": 1,
   "id": "97b96898",
   "metadata": {},
   "outputs": [
    {
     "name": "stdout",
     "output_type": "stream",
     "text": [
      "60\n",
      "20.0\n"
     ]
    }
   ],
   "source": [
    "def summ(n1,n2,n3):\n",
    "    global add,avg\n",
    "    add = n1+n2+n3\n",
    "    avg = add/3\n",
    "summ(10,20,30)\n",
    "print(add)\n",
    "print(avg)"
   ]
  },
  {
   "cell_type": "code",
   "execution_count": 5,
   "id": "dd03dba4",
   "metadata": {},
   "outputs": [
    {
     "name": "stdout",
     "output_type": "stream",
     "text": [
      "11\n",
      "-1\n",
      "30\n",
      "0.8333333333333334\n"
     ]
    }
   ],
   "source": [
    "def addd():\n",
    "    n1=5\n",
    "    n2=6\n",
    "    add=5+6\n",
    "    print(add)\n",
    "addd()    \n",
    "def subt():\n",
    "    n1=5\n",
    "    n2=6\n",
    "    subtract=5-6\n",
    "    print(subtract)\n",
    "subt()\n",
    "def mul():\n",
    "    n1=5\n",
    "    n2=6\n",
    "    multiply=5*6\n",
    "    print(multiply)\n",
    "mul()\n",
    "def div():\n",
    "    n1=5\n",
    "    n2=6\n",
    "    divide=5/6\n",
    "    print(divide)\n",
    "div()\n"
   ]
  },
  {
   "cell_type": "code",
   "execution_count": 9,
   "id": "ee06e815",
   "metadata": {},
   "outputs": [
    {
     "ename": "IndentationError",
     "evalue": "unindent does not match any outer indentation level (<tokenize>, line 7)",
     "output_type": "error",
     "traceback": [
      "\u001b[1;36m  File \u001b[1;32m<tokenize>:7\u001b[1;36m\u001b[0m\n\u001b[1;33m    def sub():\u001b[0m\n\u001b[1;37m    ^\u001b[0m\n\u001b[1;31mIndentationError\u001b[0m\u001b[1;31m:\u001b[0m unindent does not match any outer indentation level\n"
     ]
    }
   ],
   "source": [
    "n1 = eval(input(\"Enter 1st number :\"))\n",
    "n2 = eval(input(\"Enter 2nd number :\"))\n",
    "option = eval(input(\"Enter option 1,2,3,4 :\"))\n",
    "def add():\n",
    "    if option==1:\n",
    "         return(n1+n2)\n",
    "        def sub():\n",
    "        elif option==2:\n",
    "        return(n1-n2)\n",
    "        def mul():\n",
    "        elif option==3:\n",
    "        return(n1*n2)\n",
    "        def div():\n",
    "        elif option==4:\n",
    "        return(n1/n2)\n",
    "        else\n",
    "         print(\"error\")"
   ]
  },
  {
   "cell_type": "code",
   "execution_count": null,
   "id": "cc8a6420",
   "metadata": {},
   "outputs": [],
   "source": []
  },
  {
   "cell_type": "code",
   "execution_count": 11,
   "id": "4cee917d",
   "metadata": {},
   "outputs": [
    {
     "name": "stdout",
     "output_type": "stream",
     "text": [
      "Enter 1st number :7\n",
      "Enter 2nd number :3\n",
      "Enter option 1,2,3,4 :5\n",
      "use valid option\n"
     ]
    }
   ],
   "source": [
    "n1 = eval(input(\"Enter 1st number :\"))\n",
    "n2 = eval(input(\"Enter 2nd number :\"))\n",
    "option = eval(input(\"Enter option 1,2,3,4 :\"))\n",
    "\n",
    "def add():\n",
    "    return(n1+n2)\n",
    "def sub():\n",
    "    return(n1-n2)\n",
    "def mul():\n",
    "    return(n1*n2)\n",
    "def div():\n",
    "    return(n1/n2)\n",
    "\n",
    "if option==1:\n",
    "    add()\n",
    "elif option==2:\n",
    "    sub()\n",
    "elif option==3:\n",
    "    mul()\n",
    "elif option==4:\n",
    "    div()\n",
    "else:\n",
    "    print(\"use valid option\")"
   ]
  },
  {
   "cell_type": "code",
   "execution_count": 15,
   "id": "e06b3021",
   "metadata": {},
   "outputs": [
    {
     "name": "stdout",
     "output_type": "stream",
     "text": [
      "vikas is rajak\n",
      "vikas is rajak\n"
     ]
    }
   ],
   "source": [
    "vikas=input()\n",
    "print(vikas)"
   ]
  },
  {
   "cell_type": "code",
   "execution_count": 16,
   "id": "c90dac49",
   "metadata": {},
   "outputs": [
    {
     "name": "stdout",
     "output_type": "stream",
     "text": [
      "enter 1st number56\n",
      "enter 2nd number2\n",
      "enter 1 for +, 2 for -, 3 for *, 4 for /4\n",
      "28.0\n"
     ]
    }
   ],
   "source": [
    "n1=eval(input(\"enter 1st number\"))\n",
    "n2=eval(input(\"enter 2nd number\"))\n",
    "option=eval(input(\"enter 1 for +, 2 for -, 3 for *, 4 for /\"))\n",
    "\n",
    "def add():\n",
    "    return(n1+n2)\n",
    "def sub():\n",
    "    return(n1-n2)\n",
    "def mul():\n",
    "    return(n1*n2)\n",
    "def div():\n",
    "    return(n1/n2)\n",
    "\n",
    "if option==1:\n",
    "    ans=add()\n",
    "elif option==2:\n",
    "    ans=sub()\n",
    "elif option==3:    \n",
    "    ans=mul()\n",
    "elif option==4:\n",
    "    ans=div()\n",
    "else:\n",
    "    print(\"please choose a correct option\")\n",
    "    \n",
    "print(ans)    "
   ]
  },
  {
   "cell_type": "code",
   "execution_count": 28,
   "id": "4c6af78f",
   "metadata": {},
   "outputs": [
    {
     "name": "stdout",
     "output_type": "stream",
     "text": [
      "enter x,y,x :67,35,23\n",
      "x=67 is greator\n"
     ]
    }
   ],
   "source": [
    "x,y,z=eval(input(\"enter x,y,x :\"))\n",
    "if x>y:\n",
    "    if x>y:\n",
    "        print(f\"x={x} is greator\")\n",
    "    else:\n",
    "        print(f\"z={z}is greator\")\n",
    "else:\n",
    "    if y>z:\n",
    "        print(f\"y={y} is greator\")\n",
    "    else:\n",
    "        print(f\"z={z} is greator\")"
   ]
  },
  {
   "cell_type": "code",
   "execution_count": null,
   "id": "45a28386",
   "metadata": {},
   "outputs": [],
   "source": [
    "2"
   ]
  }
 ],
 "metadata": {
  "kernelspec": {
   "display_name": "Python 3 (ipykernel)",
   "language": "python",
   "name": "python3"
  },
  "language_info": {
   "codemirror_mode": {
    "name": "ipython",
    "version": 3
   },
   "file_extension": ".py",
   "mimetype": "text/x-python",
   "name": "python",
   "nbconvert_exporter": "python",
   "pygments_lexer": "ipython3",
   "version": "3.11.5"
  }
 },
 "nbformat": 4,
 "nbformat_minor": 5
}
