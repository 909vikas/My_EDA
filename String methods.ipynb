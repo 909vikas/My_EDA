{
 "cells": [
  {
   "cell_type": "code",
   "execution_count": 5,
   "id": "13eed951",
   "metadata": {},
   "outputs": [
    {
     "data": {
      "text/plain": [
       "1"
      ]
     },
     "execution_count": 5,
     "metadata": {},
     "output_type": "execute_result"
    }
   ],
   "source": [
    "s1='vikas'\n",
    "dir(s1)\n",
    "s1.count('a')"
   ]
  },
  {
   "cell_type": "code",
   "execution_count": null,
   "id": "f5703ad2",
   "metadata": {},
   "outputs": [],
   "source": [
    "#capitalizeh\n",
    "dir(s1)"
   ]
  },
  {
   "cell_type": "code",
   "execution_count": null,
   "id": "3f152792",
   "metadata": {},
   "outputs": [],
   "source": []
  },
  {
   "cell_type": "code",
   "execution_count": null,
   "id": "cc723cee",
   "metadata": {},
   "outputs": [],
   "source": [
    "# kewords vs method\n",
    " len          capitalize\n"
   ]
  },
  {
   "cell_type": "code",
   "execution_count": 16,
   "id": "50479f18",
   "metadata": {},
   "outputs": [
    {
     "data": {
      "text/plain": [
       "2"
      ]
     },
     "execution_count": 16,
     "metadata": {},
     "output_type": "execute_result"
    }
   ],
   "source": [
    "s1='ola ola ola'\n",
    "s1.count('o',2,10)"
   ]
  },
  {
   "cell_type": "code",
   "execution_count": 17,
   "id": "57c019be",
   "metadata": {},
   "outputs": [
    {
     "data": {
      "text/plain": [
       "'heLLo how are you'"
      ]
     },
     "execution_count": 17,
     "metadata": {},
     "output_type": "execute_result"
    }
   ],
   "source": [
    "s1=\"hello how are you\"\n",
    "s1.replace(\"l\",\"L\")"
   ]
  },
  {
   "cell_type": "code",
   "execution_count": 21,
   "id": "e39b3d51",
   "metadata": {},
   "outputs": [
    {
     "data": {
      "text/plain": [
       "'weLLLLcome'"
      ]
     },
     "execution_count": 21,
     "metadata": {},
     "output_type": "execute_result"
    }
   ],
   "source": [
    "s1=\"wellllcome\"\n",
    "s1.replace(\"l\",\"L\")"
   ]
  },
  {
   "cell_type": "code",
   "execution_count": 25,
   "id": "c1ecff92",
   "metadata": {},
   "outputs": [
    {
     "data": {
      "text/plain": [
       "'$esta$t'"
      ]
     },
     "execution_count": 25,
     "metadata": {},
     "output_type": "execute_result"
    }
   ],
   "source": [
    "x='restart'\n",
    "x.replace(\"r\",\"$\",-1)"
   ]
  },
  {
   "cell_type": "code",
   "execution_count": null,
   "id": "8eea1dfb",
   "metadata": {},
   "outputs": [],
   "source": []
  }
 ],
 "metadata": {
  "kernelspec": {
   "display_name": "Python 3 (ipykernel)",
   "language": "python",
   "name": "python3"
  },
  "language_info": {
   "codemirror_mode": {
    "name": "ipython",
    "version": 3
   },
   "file_extension": ".py",
   "mimetype": "text/x-python",
   "name": "python",
   "nbconvert_exporter": "python",
   "pygments_lexer": "ipython3",
   "version": "3.11.5"
  }
 },
 "nbformat": 4,
 "nbformat_minor": 5
}
