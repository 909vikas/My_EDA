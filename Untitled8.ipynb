{
 "cells": [
  {
   "cell_type": "code",
   "execution_count": 5,
   "id": "ff06ccb1",
   "metadata": {},
   "outputs": [
    {
     "name": "stdout",
     "output_type": "stream",
     "text": [
      "enter a number4\n",
      "out\n"
     ]
    }
   ],
   "source": [
    "import random\n",
    "def game():\n",
    "    n1=random.randint(1,10)\n",
    "    n2=eval(input(\"enter a number\"))\n",
    "    if n1==n2:\n",
    "        print(\"in\")\n",
    "    else:\n",
    "        print(\"out\")\n",
    "\n",
    "game()"
   ]
  },
  {
   "cell_type": "code",
   "execution_count": 13,
   "id": "cdc7109a",
   "metadata": {},
   "outputs": [
    {
     "name": "stdout",
     "output_type": "stream",
     "text": [
      "out\n"
     ]
    }
   ],
   "source": [
    "import random\n",
    "def game1(n2):\n",
    "    n1=random.randint(1,10)\n",
    "    if n1==n2:\n",
    "        print(\"in\")\n",
    "    else:\n",
    "        print(\"out\")\n",
    "\n",
    "game1(9)"
   ]
  },
  {
   "cell_type": "code",
   "execution_count": 14,
   "id": "bf41feac",
   "metadata": {},
   "outputs": [
    {
     "name": "stdout",
     "output_type": "stream",
     "text": [
      "150\n"
     ]
    }
   ],
   "source": [
    "def summ(num1=200,num2=100):\n",
    "    \n",
    "    \n",
    "    print(num1+num2)\n",
    "summ(50)    \n",
    " #num1=200  ,,  num2=100 which is fixed   "
   ]
  },
  {
   "cell_type": "code",
   "execution_count": 19,
   "id": "eff2288a",
   "metadata": {},
   "outputs": [],
   "source": [
    "sto=(\"vikas\")\n",
    "print=(sto)"
   ]
  },
  {
   "cell_type": "code",
   "execution_count": 21,
   "id": "d6279fb2",
   "metadata": {},
   "outputs": [
    {
     "name": "stdout",
     "output_type": "stream",
     "text": [
      "enter a stringthft\n"
     ]
    },
    {
     "ename": "TypeError",
     "evalue": "'str' object is not callable",
     "output_type": "error",
     "traceback": [
      "\u001b[1;31m---------------------------------------------------------------------------\u001b[0m",
      "\u001b[1;31mTypeError\u001b[0m                                 Traceback (most recent call last)",
      "Cell \u001b[1;32mIn[21], line 1\u001b[0m\n\u001b[1;32m----> 1\u001b[0m x\u001b[38;5;241m=\u001b[39m\u001b[38;5;28mstr\u001b[39m(\u001b[38;5;28minput\u001b[39m(\u001b[38;5;124m\"\u001b[39m\u001b[38;5;124menter a string\u001b[39m\u001b[38;5;124m\"\u001b[39m))\n\u001b[0;32m      2\u001b[0m \u001b[38;5;28mprint\u001b[39m(x)\n",
      "\u001b[1;31mTypeError\u001b[0m: 'str' object is not callable"
     ]
    }
   ],
   "source": [
    "x=str(input(\"enter a string\"))\n",
    "print(x)"
   ]
  },
  {
   "cell_type": "code",
   "execution_count": 22,
   "id": "19e23b80",
   "metadata": {},
   "outputs": [
    {
     "name": "stdout",
     "output_type": "stream",
     "text": [
      "momdfdd\n"
     ]
    },
    {
     "data": {
      "text/plain": [
       "'dfdd'"
      ]
     },
     "execution_count": 22,
     "metadata": {},
     "output_type": "execute_result"
    }
   ],
   "source": [
    "input(\"mom\")"
   ]
  },
  {
   "cell_type": "code",
   "execution_count": 30,
   "id": "78c4ec7a",
   "metadata": {},
   "outputs": [
    {
     "ename": "TypeError",
     "evalue": "'str' object is not callable",
     "output_type": "error",
     "traceback": [
      "\u001b[1;31m---------------------------------------------------------------------------\u001b[0m",
      "\u001b[1;31mTypeError\u001b[0m                                 Traceback (most recent call last)",
      "Cell \u001b[1;32mIn[30], line 6\u001b[0m\n\u001b[0;32m      4\u001b[0m     avg \u001b[38;5;241m=\u001b[39m add\u001b[38;5;241m/\u001b[39m\u001b[38;5;241m3\u001b[39m\n\u001b[0;32m      5\u001b[0m summ(\u001b[38;5;241m10\u001b[39m,\u001b[38;5;241m20\u001b[39m,\u001b[38;5;241m30\u001b[39m)\n\u001b[1;32m----> 6\u001b[0m \u001b[38;5;28mprint\u001b[39m(add)\n\u001b[0;32m      7\u001b[0m \u001b[38;5;28mprint\u001b[39m(avg)\n",
      "\u001b[1;31mTypeError\u001b[0m: 'str' object is not callable"
     ]
    }
   ],
   "source": [
    "def summ(n1,n2,n3):\n",
    "    global add,avg\n",
    "    add = n1+n2+n3\n",
    "    avg = add/3\n",
    "summ(10,20,30)\n",
    "print(add)\n",
    "print(avg)"
   ]
  },
  {
   "cell_type": "code",
   "execution_count": null,
   "id": "349f7eb8",
   "metadata": {},
   "outputs": [],
   "source": []
  }
 ],
 "metadata": {
  "kernelspec": {
   "display_name": "Python 3 (ipykernel)",
   "language": "python",
   "name": "python3"
  },
  "language_info": {
   "codemirror_mode": {
    "name": "ipython",
    "version": 3
   },
   "file_extension": ".py",
   "mimetype": "text/x-python",
   "name": "python",
   "nbconvert_exporter": "python",
   "pygments_lexer": "ipython3",
   "version": "3.11.5"
  }
 },
 "nbformat": 4,
 "nbformat_minor": 5
}
