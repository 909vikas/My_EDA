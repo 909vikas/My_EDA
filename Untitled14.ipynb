{
 "cells": [
  {
   "cell_type": "code",
   "execution_count": null,
   "id": "75959b37",
   "metadata": {},
   "outputs": [],
   "source": [
    "s1=\"vikas rajak is goaod noy\"\n",
    "#s1.center(2,\"a\")\n",
    "s1.slice(\"a\")"
   ]
  },
  {
   "cell_type": "code",
   "execution_count": null,
   "id": "1ef4a554",
   "metadata": {},
   "outputs": [],
   "source": [
    "dir('')"
   ]
  },
  {
   "cell_type": "code",
   "execution_count": null,
   "id": "74481a59",
   "metadata": {},
   "outputs": [],
   "source": [
    "#'isalnum',\n",
    " #'isalpha',\n",
    "# 'isascii',\n",
    "#'isdecimal',\n",
    " #'isdigit',\n",
    " #'isidentifier',\n",
    " #'islower',\n",
    " #'isnumeric',\n",
    " #'isprintable',\n",
    " #'isspace',\n",
    " #'istitle',\n",
    " #'isupper',\n",
    "s1='python'   \n",
    "#s1.isascii()\n",
    "#s1.isdigit()\n",
    "s1.isidentifier()\n"
   ]
  },
  {
   "cell_type": "code",
   "execution_count": 1,
   "id": "a6daa34a",
   "metadata": {},
   "outputs": [
    {
     "name": "stderr",
     "output_type": "stream",
     "text": [
      "<>:1: SyntaxWarning: 'int' object is not subscriptable; perhaps you missed a comma?\n",
      "<>:1: SyntaxWarning: 'int' object is not subscriptable; perhaps you missed a comma?\n",
      "C:\\Users\\akash\\AppData\\Local\\Temp\\ipykernel_15832\\2640002906.py:1: SyntaxWarning: 'int' object is not subscriptable; perhaps you missed a comma?\n",
      "  l1=[1,2,3,4[\"a\",\"b\",\"c\"]]\n",
      "C:\\Users\\akash\\AppData\\Local\\Temp\\ipykernel_15832\\2640002906.py:1: SyntaxWarning: 'int' object is not subscriptable; perhaps you missed a comma?\n",
      "  l1=[1,2,3,4[\"a\",\"b\",\"c\"]]\n",
      "C:\\Users\\akash\\AppData\\Local\\Temp\\ipykernel_15832\\2640002906.py:1: SyntaxWarning: 'int' object is not subscriptable; perhaps you missed a comma?\n",
      "  l1=[1,2,3,4[\"a\",\"b\",\"c\"]]\n",
      "C:\\Users\\akash\\AppData\\Local\\Temp\\ipykernel_15832\\2640002906.py:1: SyntaxWarning: 'int' object is not subscriptable; perhaps you missed a comma?\n",
      "  l1=[1,2,3,4[\"a\",\"b\",\"c\"]]\n",
      "C:\\Users\\akash\\AppData\\Local\\Temp\\ipykernel_15832\\2640002906.py:1: SyntaxWarning: 'int' object is not subscriptable; perhaps you missed a comma?\n",
      "  l1=[1,2,3,4[\"a\",\"b\",\"c\"]]\n"
     ]
    },
    {
     "ename": "TypeError",
     "evalue": "'int' object is not subscriptable",
     "output_type": "error",
     "traceback": [
      "\u001b[1;31m---------------------------------------------------------------------------\u001b[0m",
      "\u001b[1;31mTypeError\u001b[0m                                 Traceback (most recent call last)",
      "Cell \u001b[1;32mIn[1], line 1\u001b[0m\n\u001b[1;32m----> 1\u001b[0m l1\u001b[38;5;241m=\u001b[39m[\u001b[38;5;241m1\u001b[39m,\u001b[38;5;241m2\u001b[39m,\u001b[38;5;241m3\u001b[39m,\u001b[38;5;241m4\u001b[39m[\u001b[38;5;124m\"\u001b[39m\u001b[38;5;124ma\u001b[39m\u001b[38;5;124m\"\u001b[39m,\u001b[38;5;124m\"\u001b[39m\u001b[38;5;124mb\u001b[39m\u001b[38;5;124m\"\u001b[39m,\u001b[38;5;124m\"\u001b[39m\u001b[38;5;124mc\u001b[39m\u001b[38;5;124m\"\u001b[39m]]\n\u001b[0;32m      2\u001b[0m \u001b[38;5;28mlen\u001b[39m(l1)\n",
      "\u001b[1;31mTypeError\u001b[0m: 'int' object is not subscriptable"
     ]
    }
   ],
   "source": [
    "l1=[1,2,3,4[\"a\",\"b\",\"c\"]]\n",
    "len(l1)\n",
    "#max(l1)"
   ]
  },
  {
   "cell_type": "code",
   "execution_count": null,
   "id": "869b0b23",
   "metadata": {},
   "outputs": [],
   "source": []
  }
 ],
 "metadata": {
  "kernelspec": {
   "display_name": "Python 3 (ipykernel)",
   "language": "python",
   "name": "python3"
  },
  "language_info": {
   "codemirror_mode": {
    "name": "ipython",
    "version": 3
   },
   "file_extension": ".py",
   "mimetype": "text/x-python",
   "name": "python",
   "nbconvert_exporter": "python",
   "pygments_lexer": "ipython3",
   "version": "3.11.5"
  }
 },
 "nbformat": 4,
 "nbformat_minor": 5
}
