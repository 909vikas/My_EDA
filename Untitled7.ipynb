{
 "cells": [
  {
   "cell_type": "code",
   "execution_count": 2,
   "id": "42dcdf95",
   "metadata": {},
   "outputs": [
    {
     "name": "stdout",
     "output_type": "stream",
     "text": [
      "enter a number5\n",
      "its an odd number\n"
     ]
    }
   ],
   "source": [
    "def even_odd():\n",
    "    numx=eval(input(\"enter a number\"))\n",
    "    if numx%2==0:\n",
    "        print(\"its an even number\")\n",
    "    else:\n",
    "        print(\"its an odd number\")\n",
    "even_odd()        "
   ]
  },
  {
   "cell_type": "code",
   "execution_count": 8,
   "id": "a45eea20",
   "metadata": {},
   "outputs": [
    {
     "name": "stdout",
     "output_type": "stream",
     "text": [
      "120\n"
     ]
    }
   ],
   "source": [
    "def summ(num1,num2=100):\n",
    "    add=num1+num2\n",
    "    print(add)\n",
    "summ(20)    \n",
    " #num1=20  ,,  num2=100 which is fixed   "
   ]
  },
  {
   "cell_type": "code",
   "execution_count": 12,
   "id": "8d9cce56",
   "metadata": {},
   "outputs": [
    {
     "name": "stdout",
     "output_type": "stream",
     "text": [
      "num1 is:50\n",
      "num2 is:100\n",
      "150\n"
     ]
    }
   ],
   "source": [
    "def summ(num1=200,num2=100):\n",
    "    print(f\"num1 is:{num1}\")\n",
    "    print(f\"num2 is:{num2}\")\n",
    "    add=num1+num2\n",
    "    print(add)\n",
    "summ(50)    \n",
    " #num1=200  ,,  num2=100 which is fixed   "
   ]
  },
  {
   "cell_type": "code",
   "execution_count": 20,
   "id": "c011066c",
   "metadata": {},
   "outputs": [
    {
     "ename": "TypeError",
     "evalue": "avg() missing 1 required positional argument: 'n1'",
     "output_type": "error",
     "traceback": [
      "\u001b[1;31m---------------------------------------------------------------------------\u001b[0m",
      "\u001b[1;31mTypeError\u001b[0m                                 Traceback (most recent call last)",
      "Cell \u001b[1;32mIn[20], line 5\u001b[0m\n\u001b[0;32m      3\u001b[0m     average\u001b[38;5;241m=\u001b[39m(n1\u001b[38;5;241m+\u001b[39mn2\u001b[38;5;241m+\u001b[39mn3)\u001b[38;5;241m/\u001b[39m\u001b[38;5;241m3\u001b[39m\n\u001b[0;32m      4\u001b[0m     \u001b[38;5;28mprint\u001b[39m(average)\n\u001b[1;32m----> 5\u001b[0m avg()\n",
      "\u001b[1;31mTypeError\u001b[0m: avg() missing 1 required positional argument: 'n1'"
     ]
    }
   ],
   "source": [
    "n1=300\n",
    "def avg(n1,n2=120,n3=100):\n",
    "    average=(n1+n2+n3)/3\n",
    "    print(average)\n",
    "avg()    "
   ]
  },
  {
   "cell_type": "code",
   "execution_count": 24,
   "id": "0b0881f2",
   "metadata": {},
   "outputs": [
    {
     "ename": "NameError",
     "evalue": "name 'bill' is not defined",
     "output_type": "error",
     "traceback": [
      "\u001b[1;31m---------------------------------------------------------------------------\u001b[0m",
      "\u001b[1;31mNameError\u001b[0m                                 Traceback (most recent call last)",
      "Cell \u001b[1;32mIn[24], line 8\u001b[0m\n\u001b[0;32m      6\u001b[0m     total \u001b[38;5;241m=\u001b[39m bill \u001b[38;5;241m+\u001b[39m tip_amount\n\u001b[0;32m      7\u001b[0m     \u001b[38;5;28mprint\u001b[39m(\u001b[38;5;124mf\u001b[39m\u001b[38;5;124m\"\u001b[39m\u001b[38;5;124mthe total bill is :\u001b[39m\u001b[38;5;132;01m{\u001b[39;00mtotal\u001b[38;5;132;01m}\u001b[39;00m\u001b[38;5;124m\"\u001b[39m) \n\u001b[1;32m----> 8\u001b[0m pay()\n",
      "Cell \u001b[1;32mIn[24], line 3\u001b[0m, in \u001b[0;36mpay\u001b[1;34m()\u001b[0m\n\u001b[0;32m      1\u001b[0m \u001b[38;5;28;01mdef\u001b[39;00m \u001b[38;5;21mpay\u001b[39m():\n\u001b[1;32m----> 3\u001b[0m     \u001b[38;5;28mprint\u001b[39m(\u001b[38;5;124m\"\u001b[39m\u001b[38;5;124menter bill amount:\u001b[39m\u001b[38;5;124m\"\u001b[39m,bill)\n\u001b[0;32m      4\u001b[0m     \u001b[38;5;28mprint\u001b[39m(\u001b[38;5;124m\"\u001b[39m\u001b[38;5;124menter tip percent:\u001b[39m\u001b[38;5;124m\"\u001b[39m,tip_per)\n\u001b[0;32m      5\u001b[0m     tip_amount \u001b[38;5;241m=\u001b[39m bill \u001b[38;5;241m*\u001b[39m tip_per\u001b[38;5;241m/\u001b[39m\u001b[38;5;241m100\u001b[39m \u001b[38;5;66;03m#1000*10/100\u001b[39;00m\n",
      "\u001b[1;31mNameError\u001b[0m: name 'bill' is not defined"
     ]
    }
   ],
   "source": [
    "def pay():\n",
    "    \n",
    "    print(\"enter bill amount:\",bill)\n",
    "    print(\"enter tip percent:\",tip_per)\n",
    "    tip_amount = bill * tip_per/100 #1000*10/100\n",
    "    total = bill + tip_amount\n",
    "    print(f\"the total bill is :{total}\") \n",
    "pay()    "
   ]
  },
  {
   "cell_type": "code",
   "execution_count": 22,
   "id": "ab6fb677",
   "metadata": {},
   "outputs": [
    {
     "name": "stdout",
     "output_type": "stream",
     "text": [
      "the total bill is :1100.0\n"
     ]
    }
   ],
   "source": [
    "def pay(bill,tip_per):\n",
    "    \n",
    "    \n",
    "    tip_amount = bill * tip_per/100 #1000*10/100\n",
    "    total = bill + tip_amount\n",
    "    print(f\"the total bill is :{total}\") \n",
    "pay(1000,10)    \n"
   ]
  },
  {
   "cell_type": "code",
   "execution_count": 34,
   "id": "6bb88367",
   "metadata": {},
   "outputs": [
    {
     "name": "stdout",
     "output_type": "stream",
     "text": [
      "enter the salary10000\n",
      "enter the salary10\n",
      "1000.0\n"
     ]
    }
   ],
   "source": [
    "def tax():\n",
    "    sal=eval(input(\"enter the salary\"))\n",
    "    tax_per=eval(input(\"enter the salary\"))\n",
    "    total_tax= (sal*tax_per)/100\n",
    "    print(total_tax)\n",
    "    \n",
    "tax()\n",
    "    "
   ]
  },
  {
   "cell_type": "code",
   "execution_count": 37,
   "id": "dda3e642",
   "metadata": {},
   "outputs": [
    {
     "name": "stdout",
     "output_type": "stream",
     "text": [
      "1020.0\n"
     ]
    }
   ],
   "source": [
    "def tax(sal,tax_per=10):\n",
    "    \n",
    "    total_tax= (sal*tax_per)/100\n",
    "    print(total_tax)\n",
    "    \n",
    "tax(10200)"
   ]
  },
  {
   "cell_type": "code",
   "execution_count": 38,
   "id": "935695e7",
   "metadata": {},
   "outputs": [
    {
     "data": {
      "text/plain": [
       "1020.0"
      ]
     },
     "execution_count": 38,
     "metadata": {},
     "output_type": "execute_result"
    }
   ],
   "source": [
    "def tax(sal,tax_per=10):\n",
    "    \n",
    "    total_tax= (sal*tax_per)/100\n",
    "    return(total_tax)\n",
    "    \n",
    "tax(10200)"
   ]
  },
  {
   "cell_type": "code",
   "execution_count": 39,
   "id": "0f249862",
   "metadata": {},
   "outputs": [
    {
     "name": "stdout",
     "output_type": "stream",
     "text": [
      "1020.0\n"
     ]
    }
   ],
   "source": [
    "a=tax(10200)\n",
    "print(a)"
   ]
  },
  {
   "cell_type": "code",
   "execution_count": 47,
   "id": "114089ea",
   "metadata": {},
   "outputs": [
    {
     "name": "stdout",
     "output_type": "stream",
     "text": [
      "76\n",
      "25.333333333333332\n"
     ]
    }
   ],
   "source": [
    "def sumavg(a1,a2,a3):\n",
    "    \n",
    "    summm=a1+a2+a3\n",
    "    avg=(a1+a2+a3)/3\n",
    "    return(summm,avg)\n",
    "\n",
    "summm,avg=sumavg(16,26,34)\n",
    "print(summm)\n",
    "print(avg)"
   ]
  },
  {
   "cell_type": "code",
   "execution_count": null,
   "id": "6ac1c727",
   "metadata": {},
   "outputs": [],
   "source": []
  }
 ],
 "metadata": {
  "kernelspec": {
   "display_name": "Python 3 (ipykernel)",
   "language": "python",
   "name": "python3"
  },
  "language_info": {
   "codemirror_mode": {
    "name": "ipython",
    "version": 3
   },
   "file_extension": ".py",
   "mimetype": "text/x-python",
   "name": "python",
   "nbconvert_exporter": "python",
   "pygments_lexer": "ipython3",
   "version": "3.11.5"
  }
 },
 "nbformat": 4,
 "nbformat_minor": 5
}
