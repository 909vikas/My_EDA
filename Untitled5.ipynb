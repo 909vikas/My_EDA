{
 "cells": [
  {
   "cell_type": "code",
   "execution_count": 1,
   "id": "ca8c7599",
   "metadata": {},
   "outputs": [
    {
     "name": "stdout",
     "output_type": "stream",
     "text": [
      "Enter Ramesh's Salary :19000\n",
      "Basic Salary = 19000\n",
      "Dearness allowance = 7600.0\n",
      "Rent allowance = 3800.0\n",
      "Gross Salary =30400.0\n"
     ]
    }
   ],
   "source": [
    "# Q1. Ramesh’s basic salary is input through the keyboard. \n",
    "#    His dearness allowance is 40% of  basic salary, and \n",
    "#    house rent allowance is 20% of basic salary. \n",
    "#    Write a program to  calculate his gross salary. \n",
    "#__________________________________________________________#\n",
    "try:\n",
    "    salary = eval(input(\"Enter Ramesh's Salary :\"))\n",
    "    dear_a = salary*40/100\n",
    "    rent_a = salary*20/100\n",
    "    gross = salary + dear_a + rent_a\n",
    "    print(f\"Basic Salary = {salary}\\nDearness allowance = {dear_a}\")\n",
    "    print(f\"Rent allowance = {rent_a}\\nGross Salary ={gross}\")\n",
    "except Exception as e:\n",
    "    print(e)"
   ]
  },
  {
   "cell_type": "code",
   "execution_count": 2,
   "id": "b9e63f4c",
   "metadata": {},
   "outputs": [
    {
     "name": "stdout",
     "output_type": "stream",
     "text": [
      "Enter Distance b/w two cities(in km) = 24\n",
      "Distance in: \n",
      "km=24\n",
      "meter=24000\n",
      "feet=78720.0\n",
      "cm=2400000 \n"
     ]
    }
   ],
   "source": [
    "# Q2. The distance between two cities (in km.) is input through the keyboard. \n",
    "#   Write a program  to convert and print this distance in meters, feet, inches and centimeters.\n",
    "#_________________________________________________________________________________________________#\n",
    "try:\n",
    "    dis = eval(input(\"Enter Distance b/w two cities(in km) = \"))\n",
    "    m = dis*1000 \n",
    "    ft = m*3.28\n",
    "    cm = m*100\n",
    "    print(f\"Distance in: \\nkm={dis}\\nmeter={m}\\nfeet={ft}\\ncm={cm} \")\n",
    "except Exception as e:\n",
    "    print(e)"
   ]
  },
  {
   "cell_type": "code",
   "execution_count": 3,
   "id": "e4faa49b",
   "metadata": {},
   "outputs": [
    {
     "name": "stdout",
     "output_type": "stream",
     "text": [
      "Enter maths marks(out of 100): 60\n",
      "Enter English marks(out of 100): 44\n",
      "Enter Sst marks(out of 100): 78\n",
      "Enter Biology marks(out of 100): 67\n",
      "Enter Physics marks(out of 100): 78\n",
      "Aggregate marks =54.5\n",
      "Obtained percent=5450.0\n"
     ]
    }
   ],
   "source": [
    "#Q3. If the marks obtained by a student in five different \n",
    "#    subjects are input through the  keyboard, \n",
    "#     find out the aggregate marks and percentage marks obtained by the student. \n",
    "#     Assume that the maximum marks that can be obtained by a student in each subject is  100. \n",
    "#_______________________________________________________________________________________________\n",
    "\n",
    "try:\n",
    "    math= eval(input(\"Enter maths marks(out of 100): \"))\n",
    "    eng= eval(input(\"Enter English marks(out of 100): \"))\n",
    "    sst= eval(input(\"Enter Sst marks(out of 100): \"))\n",
    "    bio= eval(input(\"Enter Biology marks(out of 100): \"))\n",
    "    phy= eval(input(\"Enter Physics marks(out of 100): \"))\n",
    "    agg = math+eng+sst+bio+phy \n",
    "    aag_marks = agg/6\n",
    "    per = aag_marks*100\n",
    "    print(f\"Aggregate marks ={aag_marks}\\nObtained percent={per}\")\n",
    "except Exception as e:\n",
    "    print(e)"
   ]
  },
  {
   "cell_type": "code",
   "execution_count": 5,
   "id": "93365d71",
   "metadata": {},
   "outputs": [
    {
     "name": "stdout",
     "output_type": "stream",
     "text": [
      "enter the temperature of the city[in Fahrenheit degrees] : 40\n",
      "In Celsius =  4.44\n"
     ]
    }
   ],
   "source": [
    "#4. Temperature of a city in Fahrenheit degrees is input through the keyboard.\n",
    "#    Write a  program to convert this temperature into Centigrade degrees. \n",
    "#________________________________________________________________________________\n",
    "try:\n",
    "    f = eval(input(\"enter the temperature of the city[in Fahrenheit degrees] : \"))\n",
    "    celsius = (f - 32) / 1.8\n",
    "    print(\"In Celsius = \",round(celsius,2))\n",
    "except Exception as e:\n",
    "    print(e)"
   ]
  },
  {
   "cell_type": "code",
   "execution_count": 6,
   "id": "fa0c9165",
   "metadata": {},
   "outputs": [
    {
     "name": "stdout",
     "output_type": "stream",
     "text": [
      "Enter length = 16\n",
      "Enter Breadth = 5\n",
      "Radius = 5\n",
      "Perimeter of Rectangle=42\n",
      "Area of same Reactangle=80\n",
      "Circumference of the circle = 31.400000000000002\n"
     ]
    }
   ],
   "source": [
    "#5. The length & breadth of a rectangle and radius of a circle are input through the  keyboard.\n",
    "# Write a program to calculate the area & perimeter of the rectangle, \n",
    "# and the  area & circumference of the circle. \n",
    "#______________________________________________________________________________________#\n",
    "try:\n",
    "    l = eval(input(\"Enter length = \"))\n",
    "    b = eval(input(\"Enter Breadth = \"))\n",
    "    r = eval(input(\"Radius = \"))\n",
    "    per = 2*(l+b)\n",
    "    area = l*b\n",
    "    cir = 2*3.14*r\n",
    "    print(f\"Perimeter of Rectangle={per}\\nArea of same Reactangle={area}\")\n",
    "    print(f\"Circumference of the circle = {cir}\")\n",
    "except Exception as e:\n",
    "    print(e)"
   ]
  },
  {
   "cell_type": "code",
   "execution_count": 8,
   "id": "320fa7aa",
   "metadata": {},
   "outputs": [
    {
     "name": "stdout",
     "output_type": "stream",
     "text": [
      "enter a = 89\n",
      "enter b = -67\n",
      "Before swapping: a = 89, b = -67\n",
      "After swapping: a = -67, b = 89\n"
     ]
    }
   ],
   "source": [
    "#6. Two numbers are input through the keyboard into two locations C and D.\n",
    "#   Write a  program to interchange the contents of C and D. \n",
    "#_______________________________________________________________________________________\n",
    "try:\n",
    "    a = eval(input(\"enter a = \"))\n",
    "    b = eval(input(\"enter b = \"))\n",
    "    print(f\"Before swapping: a = {a}, b = {b}\")\n",
    "    a, b = b, a\n",
    "    print(f\"After swapping: a = {a}, b = {b}\")\n",
    "except Exception as e:\n",
    "    print(e)"
   ]
  },
  {
   "cell_type": "code",
   "execution_count": 9,
   "id": "2e18cb74",
   "metadata": {},
   "outputs": [
    {
     "name": "stdout",
     "output_type": "stream",
     "text": [
      "enter 5 digit number : 34523\n",
      "Reverse of 34523 = 32543\n"
     ]
    }
   ],
   "source": [
    "# Q7. If a five-digit number is input through the keyboard, \n",
    "#    write a program to reverse the  number. \n",
    "#________________________________________________________________________________________\n",
    "\n",
    "try:\n",
    "    x = eval(input(\"enter 5 digit number : \"))\n",
    "    r1 = x%10 #remainder of provided number will be the units digit\n",
    "    q1 = x//10 #quotient of provided number for further modulus operation\n",
    "    r2 = q1%10\n",
    "    q2 = q1//10\n",
    "    r3 = q2%10\n",
    "    q3 = q2//10\n",
    "    r4 = q3%10\n",
    "    q4 = q3//10\n",
    "    \n",
    "    r5 = q4%10\n",
    "    print(f\"Reverse of {x} = {r1}{r2}{r3}{r4}{r5}\")\n",
    "except Exception as e:\n",
    "    print(e)"
   ]
  },
  {
   "cell_type": "code",
   "execution_count": 15,
   "id": "dabbe991",
   "metadata": {},
   "outputs": [
    {
     "name": "stdout",
     "output_type": "stream",
     "text": [
      "enter 5 digit number : 4567\n",
      "Sum of first num 7 and Last num 4 = 11\n"
     ]
    }
   ],
   "source": [
    "#8. If a four-digit number is input through the keyboard, \n",
    "#   write a program to obtain the sum of  the first and last digit of this number. \n",
    "#_________________________________________________________________________________________\n",
    "try:\n",
    "    x = eval(input(\"enter 5 digit number : \"))\n",
    "    r1 = x%10 #remainder of provided number will be the units digit\n",
    "    q1 = x//10 #quotient of provided number for further modulus operation\n",
    "    r2 = q1%10\n",
    "    q2 = q1//10\n",
    "    r3 = q2%10\n",
    "    q3 = q2//10\n",
    "    r4 = q3%10\n",
    "    #print(f\"Reverse of {x} = {r1}{r2}{r3}{r4}\")\n",
    "    print(f\"Sum of first num {r1} and Last num {r4} = {r1+r4}\")\n",
    "except Exception as e:\n",
    "     print(e)"
   ]
  },
  {
   "cell_type": "code",
   "execution_count": 16,
   "id": "3fb2fd82",
   "metadata": {},
   "outputs": [
    {
     "name": "stdout",
     "output_type": "stream",
     "text": [
      "Total number of illiterate men: 27040\n",
      "Total number of illiterate women: 14560\n"
     ]
    }
   ],
   "source": [
    "#9. In a town, the percentage of men is 52. \n",
    "#   The percentage of total literacy is 48. \n",
    "#   If total  percentage of literate men is 35 of the total population, #\n",
    "#   write a program to find the total  number of illiterate men and women \n",
    "#   if the population of the town is 80,000.\n",
    "#--------------------------------------------------------------------------#\n",
    "pop = 80000\n",
    "men_per = 52\n",
    "lit_per = 48\n",
    "lit_men_per = 35\n",
    "\n",
    "men = (men_per / 100) * pop\n",
    "women = pop - men\n",
    "\n",
    "literacy = (lit_per / 100) * pop\n",
    "lit_men = (lit_men_per / 100) * men\n",
    "lit_women = literacy - lit_men\n",
    "ill_men = men - lit_men\n",
    "ill_women = women - lit_women\n",
    "\n",
    "print(f\"Total number of illiterate men: {int(ill_men)}\")\n",
    "print(f\"Total number of illiterate women: {int(ill_women)}\")"
   ]
  },
  {
   "cell_type": "code",
   "execution_count": 17,
   "id": "8a6c36c8",
   "metadata": {},
   "outputs": [
    {
     "name": "stdout",
     "output_type": "stream",
     "text": [
      "Enter the amount to be withdrawn in hundreds: 780\n",
      "Number of 100 notes: 7\n",
      "Number of 50 notes: 1\n",
      "Number of 10 notes: 3\n"
     ]
    }
   ],
   "source": [
    "#10. A cashier has currency notes of denominations 10, 50 and 100. \n",
    "#  If the amount to be  withdrawn is input through the keyboard in hundreds, \n",
    "# find the total number of currency  notes of each denomination the cashier \n",
    "# will have to give to the withdrawer.\n",
    "#_______________________________________________________________________________________________\n",
    "try:\n",
    "    amount = eval(input(\"Enter the amount to be withdrawn in hundreds: \"))\n",
    "    note_100 = amount // 100\n",
    "    note_50 = (amount % 100) // 50\n",
    "    note_10 = ((amount % 100) % 50) // 10\n",
    "    print(f\"Number of 100 notes: {note_100}\")\n",
    "    print(f\"Number of 50 notes: {note_50}\")\n",
    "    print(f\"Number of 10 notes: {note_10}\")\n",
    "    \n",
    "except Exception as e:\n",
    "    print(e)"
   ]
  },
  {
   "cell_type": "code",
   "execution_count": null,
   "id": "9726dcde",
   "metadata": {},
   "outputs": [],
   "source": []
  }
 ],
 "metadata": {
  "kernelspec": {
   "display_name": "Python 3 (ipykernel)",
   "language": "python",
   "name": "python3"
  },
  "language_info": {
   "codemirror_mode": {
    "name": "ipython",
    "version": 3
   },
   "file_extension": ".py",
   "mimetype": "text/x-python",
   "name": "python",
   "nbconvert_exporter": "python",
   "pygments_lexer": "ipython3",
   "version": "3.11.5"
  }
 },
 "nbformat": 4,
 "nbformat_minor": 5
}
