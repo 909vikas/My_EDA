{
 "cells": [
  {
   "cell_type": "code",
   "execution_count": 2,
   "id": "1249170b",
   "metadata": {},
   "outputs": [
    {
     "name": "stdout",
     "output_type": "stream",
     "text": [
      "enter any number to get square of it ; 4\n",
      "the square of 4 is 16:\n"
     ]
    }
   ],
   "source": [
    "#write a program to get the square of any number\n",
    "\n",
    "num1=eval(input(\"enter any number to get square of it ; \"))\n",
    "square=num1*num1\n",
    "print(f\"the square of {num1} is {square}:\")"
   ]
  },
  {
   "cell_type": "code",
   "execution_count": 15,
   "id": "2d3ad163",
   "metadata": {},
   "outputs": [
    {
     "name": "stdout",
     "output_type": "stream",
     "text": [
      "1st number and 2nd number  and 3rd number and 4th number\n"
     ]
    }
   ],
   "source": [
    "#write a program to for using \"sep\" keyword\n",
    "\n",
    "x= print(\"1st number\" ,\"2nd number \", \"3rd number\",\"4th number\",sep= \" and \")"
   ]
  },
  {
   "cell_type": "code",
   "execution_count": 22,
   "id": "34f65ea4",
   "metadata": {},
   "outputs": [
    {
     "name": "stdout",
     "output_type": "stream",
     "text": [
      "1st number and 2nd number  and 3rd number and 4th number\n"
     ]
    }
   ],
   "source": [
    "#write a program to for using \"end\" keyword\n",
    "\n",
    "print(\"1st number\" ,end= \" and \")\n",
    "print(\"2nd number \",end= \" and \")\n",
    "print(\"3rd number\",end= \" and \")\n",
    "print(\"4th number\")"
   ]
  },
  {
   "cell_type": "code",
   "execution_count": 24,
   "id": "9a0e3311",
   "metadata": {},
   "outputs": [
    {
     "name": "stdout",
     "output_type": "stream",
     "text": [
      "enter first number :4\n",
      "enter second number6\n",
      "enter third number8\n",
      "the total of 4,6 and 8 is 18 and the average is {6.0}\n"
     ]
    }
   ],
   "source": [
    "#write a program to find the average and total of 3 numbers.\n",
    "a=eval(input(\"enter first number :\"))\n",
    "b=eval(input(\"enter second number\"))\n",
    "c=eval(input(\"enter third number\"))\n",
    "average=(a+b+c)/3\n",
    "total=a+b+c\n",
    "print(f\"the total of {a},{b} and {c} is {total}\",\"and the average is\",{average})"
   ]
  },
  {
   "cell_type": "code",
   "execution_count": 42,
   "id": "b8a6bf8b",
   "metadata": {},
   "outputs": [
    {
     "name": "stdout",
     "output_type": "stream",
     "text": [
      "Enter a number of weight in kilos to get the pounds of it7\n",
      "The pound of7kg is:15.400000000000002\n"
     ]
    }
   ],
   "source": [
    "\"\"\"Write a program that asks the user for a weight in kilograms and\n",
    "converts it to pounds. There are 2.2 pounds in a kilogram.\"\"\"\n",
    "\n",
    "weight=eval(input(\"Enter a number of weight in kilos to get the pounds of it\"))\n",
    "pounds=(weight*2.2)\n",
    "print(f\"The pound of{weight}kg is:{pounds}\")\n"
   ]
  },
  {
   "cell_type": "code",
   "execution_count": null,
   "id": "f677dcaa",
   "metadata": {},
   "outputs": [],
   "source": []
  },
  {
   "cell_type": "code",
   "execution_count": 43,
   "id": "02265d2f",
   "metadata": {},
   "outputs": [
    {
     "name": "stdout",
     "output_type": "stream",
     "text": [
      "enter the price of meal200\n",
      "enter the percentage of tip you wanna leave2\n",
      "Total tip:4.0 and the final bill is : 204.0\n"
     ]
    }
   ],
   "source": [
    "\"\"\"\"A lot of cell phones have tip calculators. Write one. Ask the user for\n",
    "the price of the meal and the percent tip they want to leave. Then\n",
    "print both the tip amount and the total bill with the tip included.\n",
    "\"\"\"\n",
    "meal=eval(input(\"enter the price of meal\"))\n",
    "tip=eval(input(\"enter the percentage of tip you wanna leave\"))\n",
    "total_tip=(meal*tip)/100\n",
    "bill=meal+total_tip\n",
    "print(f\"Total tip:{total_tip} and the final bill is : {bill}\")\n"
   ]
  },
  {
   "cell_type": "code",
   "execution_count": 48,
   "id": "986d3a38",
   "metadata": {},
   "outputs": [
    {
     "name": "stdout",
     "output_type": "stream",
     "text": [
      "Father: Hey Baby!\n",
      "Daughter: Hello Dady\n",
      "Father: I heard your exams are over, what about result\n",
      "Daughter: Yes dad! Results are out.\n",
      "Father: what is the percentage?\n",
      "Daughter: I will give my subject wise marks , you tell me the percentage\n",
      "Father : Okay!\n",
      "first language =56\n",
      "second language =78\n",
      "third language =45\n",
      "math =76\n",
      "science =45\n",
      "Daughter: Dad Now tell me how much percentage I got\n",
      "Father: Tell me the max marks of each subject\n",
      "Daughter: its 100\n",
      "total percentage is:60.0\n"
     ]
    }
   ],
   "source": [
    "\"\"\"Let’s create a story between Father and daughter , You need to\n",
    "create a story by using print and input keywords\"\"\"\n",
    "\n",
    "print(\"Father: Hey Baby!\")\n",
    "print(\"Daughter: Hello Dady\")\n",
    "print(\"Father: I heard your exams are over, what about result\")\n",
    "print(\"Daughter: Yes dad! Results are out.\")\n",
    "print(\"Father: what is the percentage?\")\n",
    "print(\"Daughter: I will give my subject wise marks , you tell me the percentage\")\n",
    "print(\"Father : Okay!\")\n",
    "sub1=eval(input(\"first language =\"))\n",
    "sub2=eval(input(\"second language =\"))\n",
    "sub3=eval(input(\"third language =\"))\n",
    "sub4=eval(input(\"math =\"))\n",
    "sub5=eval(input(\"science =\"))\n",
    "print(\"Daughter: Dad Now tell me how much percentage I got\")\n",
    "print(\"Father: Tell me the max marks of each subject\")\n",
    "print(\"Daughter: its 100\")\n",
    "per=(sub1+sub2+sub3+sub4+sub5)*100/500\n",
    "print(f\"total percentage is:{per}\")"
   ]
  },
  {
   "cell_type": "code",
   "execution_count": null,
   "id": "b65f05be",
   "metadata": {},
   "outputs": [],
   "source": []
  }
 ],
 "metadata": {
  "kernelspec": {
   "display_name": "Python 3 (ipykernel)",
   "language": "python",
   "name": "python3"
  },
  "language_info": {
   "codemirror_mode": {
    "name": "ipython",
    "version": 3
   },
   "file_extension": ".py",
   "mimetype": "text/x-python",
   "name": "python",
   "nbconvert_exporter": "python",
   "pygments_lexer": "ipython3",
   "version": "3.11.5"
  }
 },
 "nbformat": 4,
 "nbformat_minor": 5
}
