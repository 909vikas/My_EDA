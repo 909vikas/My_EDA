{
 "cells": [
  {
   "cell_type": "code",
   "execution_count": 24,
   "id": "b2608951",
   "metadata": {},
   "outputs": [
    {
     "data": {
      "text/plain": [
       "'Santhanam'"
      ]
     },
     "execution_count": 24,
     "metadata": {},
     "output_type": "execute_result"
    }
   ],
   "source": [
    "path=r\"C:\\Users\\akash\\Python_class_codes\\email.assignment.txt\"\n",
    "file=open(path,\n",
    "         mode='r',\n",
    "         encoding='utf-8-sig')\n",
    "         \n",
    "data = file.read()\n",
    "#data.strip()\n",
    "i=data.split(';')\n",
    "i[0].split(\",\")[0]"
   ]
  },
  {
   "cell_type": "code",
   "execution_count": 23,
   "id": "9083680b",
   "metadata": {},
   "outputs": [
    {
     "data": {
      "text/plain": [
       "'Santhanam, Jayendhran <jayendhran'"
      ]
     },
     "execution_count": 23,
     "metadata": {},
     "output_type": "execute_result"
    }
   ],
   "source": [
    "path=r\"C:\\Users\\akash\\Python_class_codes\\email.assignment.txt\"\n",
    "file=open(path,\n",
    "         mode='r',\n",
    "         encoding='utf-8-sig')\n",
    "         \n",
    "data = file.read()\n",
    "#data.strip()\n",
    "i=data.split(';')\n",
    "i[0].split(\".\")[0]"
   ]
  },
  {
   "cell_type": "code",
   "execution_count": null,
   "id": "e1525a23",
   "metadata": {},
   "outputs": [],
   "source": []
  }
 ],
 "metadata": {
  "kernelspec": {
   "display_name": "Python 3 (ipykernel)",
   "language": "python",
   "name": "python3"
  },
  "language_info": {
   "codemirror_mode": {
    "name": "ipython",
    "version": 3
   },
   "file_extension": ".py",
   "mimetype": "text/x-python",
   "name": "python",
   "nbconvert_exporter": "python",
   "pygments_lexer": "ipython3",
   "version": "3.11.5"
  }
 },
 "nbformat": 4,
 "nbformat_minor": 5
}
