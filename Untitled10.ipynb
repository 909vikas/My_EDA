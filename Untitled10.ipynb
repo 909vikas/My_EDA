{
 "cells": [
  {
   "cell_type": "code",
   "execution_count": 12,
   "id": "1d6629e9",
   "metadata": {},
   "outputs": [
    {
     "name": "stdout",
     "output_type": "stream",
     "text": [
      "0 3\n",
      "1 4\n",
      "2 5\n",
      "3 6\n",
      "4 7\n",
      "5 8\n",
      "6 9\n",
      "7 10\n",
      "8 11\n",
      "9 12\n"
     ]
    }
   ],
   "source": [
    "for i in range (10):\n",
    "    print (i,end=\" \")\n",
    "    print(i+3)\n",
    "   "
   ]
  },
  {
   "cell_type": "code",
   "execution_count": 3,
   "id": "fac8ed6a",
   "metadata": {},
   "outputs": [
    {
     "name": "stdout",
     "output_type": "stream",
     "text": [
      "0\n",
      "1\n",
      "2\n",
      "3\n",
      "4\n",
      "5\n",
      "6\n"
     ]
    }
   ],
   "source": [
    "d=8\n",
    "for d in range():\n",
    "    print(d)"
   ]
  },
  {
   "cell_type": "code",
   "execution_count": 25,
   "id": "ecfcc7b9",
   "metadata": {},
   "outputs": [
    {
     "name": "stdout",
     "output_type": "stream",
     "text": [
      "-1 -3 -5 -7 -9 -11 "
     ]
    }
   ],
   "source": [
    "for i in range(-1,-13,-2):\n",
    "    print(i,end=\" \")"
   ]
  },
  {
   "cell_type": "code",
   "execution_count": 29,
   "id": "63a15868",
   "metadata": {},
   "outputs": [
    {
     "name": "stdout",
     "output_type": "stream",
     "text": [
      "the square of 5 is :25\n",
      "the square of 6 is :36\n",
      "the square of 7 is :49\n",
      "the square of 8 is :64\n",
      "the square of 9 is :81\n",
      "the square of 10 is :100\n"
     ]
    }
   ],
   "source": [
    "for i in range (5,11):\n",
    "    print(f\"the square of {i} is :{i*i}\")"
   ]
  },
  {
   "cell_type": "code",
   "execution_count": 30,
   "id": "de4e28c5",
   "metadata": {},
   "outputs": [
    {
     "name": "stdout",
     "output_type": "stream",
     "text": [
      "9\n",
      "18\n",
      "27\n",
      "36\n",
      "45\n",
      "54\n",
      "63\n",
      "72\n",
      "81\n",
      "90\n"
     ]
    }
   ],
   "source": [
    "for i in range(1,11):\n",
    "    print(i*9) "
   ]
  },
  {
   "cell_type": "code",
   "execution_count": 32,
   "id": "ab6b6abc",
   "metadata": {},
   "outputs": [
    {
     "name": "stdout",
     "output_type": "stream",
     "text": [
      "0\n",
      "1\n",
      "2\n",
      "3\n",
      "4\n",
      "5\n",
      "6\n",
      "7\n",
      "8\n",
      "9\n",
      "10\n"
     ]
    }
   ],
   "source": [
    "import random\n",
    "for i in range (random.randint(10,20)):\n",
    "    print(i)"
   ]
  },
  {
   "cell_type": "code",
   "execution_count": 34,
   "id": "19e20295",
   "metadata": {},
   "outputs": [
    {
     "name": "stdout",
     "output_type": "stream",
     "text": [
      "30 x 30 = 900\n",
      "25 x 25 = 625\n",
      "6 x 6 = 36\n",
      "35 x 35 = 1225\n",
      "12 x 12 = 144\n"
     ]
    }
   ],
   "source": [
    "for i in range(1,6):\n",
    "    num = random.randint(5,50)\n",
    "    print(f\"{num} x {num} = {num*num}\")"
   ]
  },
  {
   "cell_type": "code",
   "execution_count": 36,
   "id": "f83b03d4",
   "metadata": {},
   "outputs": [
    {
     "name": "stdout",
     "output_type": "stream",
     "text": [
      "5 is odd number\n",
      "6 is even number\n",
      "7 is odd number\n",
      "8 is even number\n",
      "9 is odd number\n",
      "10 is even number\n"
     ]
    }
   ],
   "source": [
    "for i in range (5,11):\n",
    "    if i%2==0:\n",
    "        print(f\"{i} is even number\")\n",
    "    else:\n",
    "        print(f\"{i} is odd number\")"
   ]
  },
  {
   "cell_type": "code",
   "execution_count": 39,
   "id": "679e4be5",
   "metadata": {},
   "outputs": [
    {
     "name": "stdout",
     "output_type": "stream",
     "text": [
      "enter a number6\n",
      "6 is odd number\n",
      "enter a number35\n",
      "35 is even number\n",
      "enter a numbery6\n"
     ]
    },
    {
     "ename": "NameError",
     "evalue": "name 'y6' is not defined",
     "output_type": "error",
     "traceback": [
      "\u001b[1;31m---------------------------------------------------------------------------\u001b[0m",
      "\u001b[1;31mNameError\u001b[0m                                 Traceback (most recent call last)",
      "Cell \u001b[1;32mIn[39], line 2\u001b[0m\n\u001b[0;32m      1\u001b[0m \u001b[38;5;28;01mfor\u001b[39;00m i \u001b[38;5;129;01min\u001b[39;00m \u001b[38;5;28mrange\u001b[39m (\u001b[38;5;241m5\u001b[39m,\u001b[38;5;241m11\u001b[39m):\n\u001b[1;32m----> 2\u001b[0m     num\u001b[38;5;241m=\u001b[39m\u001b[38;5;28meval\u001b[39m(\u001b[38;5;28minput\u001b[39m(\u001b[38;5;124m\"\u001b[39m\u001b[38;5;124menter a number\u001b[39m\u001b[38;5;124m\"\u001b[39m))\n\u001b[0;32m      3\u001b[0m     \u001b[38;5;28;01mif\u001b[39;00m i\u001b[38;5;241m%\u001b[39m\u001b[38;5;241m2\u001b[39m\u001b[38;5;241m==\u001b[39m\u001b[38;5;241m0\u001b[39m:\n\u001b[0;32m      4\u001b[0m         \u001b[38;5;28mprint\u001b[39m(\u001b[38;5;124mf\u001b[39m\u001b[38;5;124m\"\u001b[39m\u001b[38;5;132;01m{\u001b[39;00mnum\u001b[38;5;132;01m}\u001b[39;00m\u001b[38;5;124m is even number\u001b[39m\u001b[38;5;124m\"\u001b[39m)\n",
      "File \u001b[1;32m<string>:1\u001b[0m\n",
      "\u001b[1;31mNameError\u001b[0m: name 'y6' is not defined"
     ]
    }
   ],
   "source": [
    "for i in range (5,11):\n",
    "    num=eval(input(\"enter a number\"))\n",
    "    if i%2==0:\n",
    "        print(f\"{num} is even number\")\n",
    "    else:\n",
    "        print(f\"{num} is odd number\")"
   ]
  },
  {
   "cell_type": "code",
   "execution_count": 42,
   "id": "e40e4e7c",
   "metadata": {},
   "outputs": [
    {
     "name": "stdout",
     "output_type": "stream",
     "text": [
      "15 is odd number\n",
      "15 is even number\n",
      "36 is odd number\n",
      "43 is even number\n",
      "9 is odd number\n"
     ]
    }
   ],
   "source": [
    "for i in range (5,10):\n",
    "    num=random.randint(1,50)\n",
    "    if i%2==0:\n",
    "        print(f\"{num} is even number\")\n",
    "    else:\n",
    "        print(f\"{num} is odd number\")"
   ]
  },
  {
   "cell_type": "code",
   "execution_count": 49,
   "id": "3b14c58a",
   "metadata": {},
   "outputs": [
    {
     "name": "stdout",
     "output_type": "stream",
     "text": [
      "8 = even\n",
      "34 = even\n",
      "17 = odd\n",
      "23 = odd\n",
      "17 = odd\n",
      "even numbers here are =  2\n",
      "vikas numbers here are =  5\n"
     ]
    }
   ],
   "source": [
    "even_count=0\n",
    "odd_count=0\n",
    "for i in range(5):\n",
    "    num = random.randint(5,50)\n",
    "    if num%2==0:\n",
    "        print(f\"{num} = even\")\n",
    "        even_count = even_count + 1\n",
    "    else:\n",
    "        print(f\"{num} = odd\")\n",
    "        odd_count = x_count+1\n",
    "print(\"even numbers here are = \",even_count)\n",
    "print(\"vikas numbers here are = \",odd_count)"
   ]
  },
  {
   "cell_type": "code",
   "execution_count": 47,
   "id": "ac242ec0",
   "metadata": {},
   "outputs": [
    {
     "name": "stdout",
     "output_type": "stream",
     "text": [
      "50 = even\n",
      "45 = odd\n",
      "21 = odd\n",
      "27 = odd\n",
      "39 = odd\n",
      "even numbers here are =  1\n",
      "x numbers here are =  4\n"
     ]
    }
   ],
   "source": [
    "even_count=0\n",
    "x_count=0\n",
    "for i in range(5):\n",
    "    num = random.randint(5,50)\n",
    "    if num%2==0:\n",
    "        print(f\"{num} = even\")\n",
    "        even_count = even_count + 1\n",
    "    else:\n",
    "        print(f\"{num} = odd\")\n",
    "        x_count = x_count+1\n",
    "print(\"even numbers here are = \",even_count)\n",
    "print(\"x numbers here are = \",o_count)"
   ]
  },
  {
   "cell_type": "code",
   "execution_count": null,
   "id": "5c88e50f",
   "metadata": {},
   "outputs": [],
   "source": []
  }
 ],
 "metadata": {
  "kernelspec": {
   "display_name": "Python 3 (ipykernel)",
   "language": "python",
   "name": "python3"
  },
  "language_info": {
   "codemirror_mode": {
    "name": "ipython",
    "version": 3
   },
   "file_extension": ".py",
   "mimetype": "text/x-python",
   "name": "python",
   "nbconvert_exporter": "python",
   "pygments_lexer": "ipython3",
   "version": "3.11.5"
  }
 },
 "nbformat": 4,
 "nbformat_minor": 5
}
