{
 "cells": [
  {
   "cell_type": "code",
   "execution_count": 15,
   "id": "a18e2666",
   "metadata": {},
   "outputs": [
    {
     "data": {
      "text/plain": [
       "['Hyd', 'Vikass', 'Vimal']"
      ]
     },
     "execution_count": 15,
     "metadata": {},
     "output_type": "execute_result"
    }
   ],
   "source": [
    "l1=[\"hyd\",\"vikass\",\"vimal\"]\n",
    "l2=[]\n",
    "for c in l1:\n",
    "   \n",
    "        l2.append(c.capitalize())      \n",
    "l2   "
   ]
  },
  {
   "cell_type": "code",
   "execution_count": 10,
   "id": "4039b2e3",
   "metadata": {},
   "outputs": [
    {
     "ename": "NameError",
     "evalue": "name 'capitalize' is not defined",
     "output_type": "error",
     "traceback": [
      "\u001b[1;31m---------------------------------------------------------------------------\u001b[0m",
      "\u001b[1;31mNameError\u001b[0m                                 Traceback (most recent call last)",
      "Cell \u001b[1;32mIn[10], line 4\u001b[0m\n\u001b[0;32m      2\u001b[0m l2\u001b[38;5;241m=\u001b[39m[]\n\u001b[0;32m      3\u001b[0m \u001b[38;5;28;01mfor\u001b[39;00m c \u001b[38;5;129;01min\u001b[39;00m l1:\n\u001b[1;32m----> 4\u001b[0m     capitalize(c)\n",
      "\u001b[1;31mNameError\u001b[0m: name 'capitalize' is not defined"
     ]
    }
   ],
   "source": [
    "l1=[\"hyd\",\"vikass\",\"vimal\"]\n",
    "l2=[]\n",
    "for c in l1:\n",
    "    capitalize(c)"
   ]
  },
  {
   "cell_type": "code",
   "execution_count": 18,
   "id": "23e1589b",
   "metadata": {},
   "outputs": [
    {
     "data": {
      "text/plain": [
       "['vik#ass', 'vi#mal']"
      ]
     },
     "execution_count": 18,
     "metadata": {},
     "output_type": "execute_result"
    }
   ],
   "source": [
    "l1=[\"hyd\",\"vik#ass\",\"vi#mal\"]\n",
    "l2=[]\n",
    "for i in l1:\n",
    "    if \"#\" in i:\n",
    "        l2.append(i)\n",
    "l2        "
   ]
  },
  {
   "cell_type": "code",
   "execution_count": 37,
   "id": "77dfaf15",
   "metadata": {},
   "outputs": [
    {
     "data": {
      "text/plain": [
       "21"
      ]
     },
     "execution_count": 37,
     "metadata": {},
     "output_type": "execute_result"
    }
   ],
   "source": [
    "s=\"hello hai how are you\"\n",
    "l1=[]\n",
    "for i in range(len(s)):\n",
    "    if s[i]==\"a\":   \n",
    "        l1.append(i)\n",
    "sum(l1        )"
   ]
  },
  {
   "cell_type": "code",
   "execution_count": 42,
   "id": "d03246df",
   "metadata": {},
   "outputs": [
    {
     "data": {
      "text/plain": [
       "([40, 46, 36, 38, 30], [31, 35, 37, 27, 21])"
      ]
     },
     "execution_count": 42,
     "metadata": {},
     "output_type": "execute_result"
    }
   ],
   "source": [
    "import random\n",
    "odd=[]\n",
    "even=[]\n",
    "for i in range(10):\n",
    "    x=random.randint(10,46)\n",
    "    if x%2==0:\n",
    "        even.append(x)\n",
    "    else:\n",
    "        odd.append(x)\n",
    "even,odd        "
   ]
  },
  {
   "cell_type": "code",
   "execution_count": 48,
   "id": "bd5da017",
   "metadata": {},
   "outputs": [
    {
     "name": "stdout",
     "output_type": "stream",
     "text": [
      "['hyd', 'vikass', 'vimal', 1, 2, 3, 1, 2, 3]\n",
      "[1, 2, 3]\n"
     ]
    }
   ],
   "source": [
    "l1=[\"hyd\",\"vikass\",\"vimal\"]\n",
    "l2=[1,2,3]\n",
    "l1.extend(l2)\n",
    "l1.extend(l2)\n",
    "print(l1)\n",
    "print(l2)"
   ]
  },
  {
   "cell_type": "code",
   "execution_count": 50,
   "id": "3415b46c",
   "metadata": {},
   "outputs": [
    {
     "data": {
      "text/plain": [
       "[1, 2, 3]"
      ]
     },
     "execution_count": 50,
     "metadata": {},
     "output_type": "execute_result"
    }
   ],
   "source": [
    "l1=[]\n",
    "l2=[1,2,3]\n",
    "l1.extend(l2)\n",
    "l1"
   ]
  },
  {
   "cell_type": "code",
   "execution_count": 46,
   "id": "5f20cb1f",
   "metadata": {},
   "outputs": [
    {
     "data": {
      "text/plain": [
       "['hyd', 'vikass', 'vimal', 1, 2, 3, 'hyd', 'vikass', 'vimal']"
      ]
     },
     "execution_count": 46,
     "metadata": {},
     "output_type": "execute_result"
    }
   ],
   "source": [
    "l1+l2"
   ]
  },
  {
   "cell_type": "code",
   "execution_count": null,
   "id": "a4dbeeb3",
   "metadata": {},
   "outputs": [],
   "source": []
  }
 ],
 "metadata": {
  "kernelspec": {
   "display_name": "Python 3 (ipykernel)",
   "language": "python",
   "name": "python3"
  },
  "language_info": {
   "codemirror_mode": {
    "name": "ipython",
    "version": 3
   },
   "file_extension": ".py",
   "mimetype": "text/x-python",
   "name": "python",
   "nbconvert_exporter": "python",
   "pygments_lexer": "ipython3",
   "version": "3.11.5"
  }
 },
 "nbformat": 4,
 "nbformat_minor": 5
}
