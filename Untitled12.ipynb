{
 "cells": [
  {
   "cell_type": "code",
   "execution_count": null,
   "id": "a07c935b",
   "metadata": {},
   "outputs": [],
   "source": [
    "ab=[&]\n",
    "ab"
   ]
  },
  {
   "cell_type": "code",
   "execution_count": null,
   "id": "4735597b",
   "metadata": {},
   "outputs": [],
   "source": [
    "vik=[_]\n",
    "vik"
   ]
  },
  {
   "cell_type": "code",
   "execution_count": null,
   "id": "178b8c19",
   "metadata": {},
   "outputs": [],
   "source": [
    "ex=[1,2,3,4]\n",
    "print(len(ex))\n",
    "print(max(ex))\n",
    "print(min(ex))\n",
    "print(sum(ex))"
   ]
  },
  {
   "cell_type": "code",
   "execution_count": null,
   "id": "8fcde7e8",
   "metadata": {},
   "outputs": [],
   "source": [
    "l2=['cherry','banana','apple']\n",
    "min(l2),max(l2),len(l2)"
   ]
  },
  {
   "cell_type": "code",
   "execution_count": null,
   "id": "120852b5",
   "metadata": {},
   "outputs": [],
   "source": [
    "sorted(l2,reverse=True)"
   ]
  },
  {
   "cell_type": "code",
   "execution_count": null,
   "id": "ab947c05",
   "metadata": {},
   "outputs": [],
   "source": [
    "sorted(ex,reverse=True)"
   ]
  },
  {
   "cell_type": "code",
   "execution_count": null,
   "id": "19f23fc6",
   "metadata": {},
   "outputs": [],
   "source": [
    "val=reversed(l2)\n",
    "for i in val:\n",
    "    print(i)"
   ]
  },
  {
   "cell_type": "code",
   "execution_count": null,
   "id": "eacf97e9",
   "metadata": {},
   "outputs": [],
   "source": [
    "for i in ex:\n",
    "    print(ex)\n",
    "    "
   ]
  },
  {
   "cell_type": "code",
   "execution_count": null,
   "id": "c6bab3be",
   "metadata": {},
   "outputs": [],
   "source": [
    "for i in range(len(l2)):\n",
    "    print(l2[i],i-3)"
   ]
  },
  {
   "cell_type": "code",
   "execution_count": null,
   "id": "d7b29735",
   "metadata": {},
   "outputs": [],
   "source": [
    "li=[['a']]\n",
    "li[0][0]"
   ]
  },
  {
   "cell_type": "code",
   "execution_count": 6,
   "id": "c009c070",
   "metadata": {},
   "outputs": [
    {
     "name": "stdout",
     "output_type": "stream",
     "text": [
      "hyd\n",
      "mumbai\n",
      "bhopal\n",
      "chennai\n"
     ]
    }
   ],
   "source": [
    "l1=['hyd','mumbai','bhopal','chennai']\n",
    "\n",
    "for i in l1:\n",
    "    print(i)\n",
    "    if len(l1)>5:\n",
    "        print(i)"
   ]
  },
  {
   "cell_type": "code",
   "execution_count": null,
   "id": "eebca41e",
   "metadata": {},
   "outputs": [],
   "source": []
  }
 ],
 "metadata": {
  "kernelspec": {
   "display_name": "Python 3 (ipykernel)",
   "language": "python",
   "name": "python3"
  },
  "language_info": {
   "codemirror_mode": {
    "name": "ipython",
    "version": 3
   },
   "file_extension": ".py",
   "mimetype": "text/x-python",
   "name": "python",
   "nbconvert_exporter": "python",
   "pygments_lexer": "ipython3",
   "version": "3.11.5"
  }
 },
 "nbformat": 4,
 "nbformat_minor": 5
}
