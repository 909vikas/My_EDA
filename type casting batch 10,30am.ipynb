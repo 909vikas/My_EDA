{
 "cells": [
  {
   "cell_type": "markdown",
   "id": "6a59167d",
   "metadata": {},
   "source": []
  },
  {
   "cell_type": "code",
   "execution_count": 2,
   "id": "8bd1a389",
   "metadata": {},
   "outputs": [
    {
     "name": "stdout",
     "output_type": "stream",
     "text": [
      "10\n",
      "10.0\n",
      "True\n",
      "(10+0j)\n"
     ]
    }
   ],
   "source": [
    "#lets typecast interger number to other data types\n",
    "\n",
    "x=10\n",
    "print(str(x))\n",
    "print(float(x))\n",
    "print(bool(x))\n",
    "print(complex(x))"
   ]
  },
  {
   "cell_type": "code",
   "execution_count": 8,
   "id": "4748f7d3",
   "metadata": {},
   "outputs": [
    {
     "name": "stdout",
     "output_type": "stream",
     "text": [
      "True\n"
     ]
    }
   ],
   "source": [
    "#lets typecast String number to other data types\n",
    "\n",
    "vikas=\"vikas\"\n",
    "#print(int(vikas))\n",
    "#print(float(vikas))\n",
    "print(bool(vikas))\n",
    "#print(complex(vikas))\n"
   ]
  },
  {
   "cell_type": "code",
   "execution_count": null,
   "id": "a0aa999a",
   "metadata": {},
   "outputs": [],
   "source": []
  }
 ],
 "metadata": {
  "kernelspec": {
   "display_name": "Python 3 (ipykernel)",
   "language": "python",
   "name": "python3"
  },
  "language_info": {
   "codemirror_mode": {
    "name": "ipython",
    "version": 3
   },
   "file_extension": ".py",
   "mimetype": "text/x-python",
   "name": "python",
   "nbconvert_exporter": "python",
   "pygments_lexer": "ipython3",
   "version": "3.11.5"
  }
 },
 "nbformat": 4,
 "nbformat_minor": 5
}
