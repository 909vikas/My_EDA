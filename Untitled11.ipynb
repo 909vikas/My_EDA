{
 "cells": [
  {
   "cell_type": "code",
   "execution_count": 12,
   "id": "5d291396",
   "metadata": {},
   "outputs": [
    {
     "name": "stdout",
     "output_type": "stream",
     "text": [
      "enter a 5 digit number12345\n",
      "Reverse of 12345 = 54321\n"
     ]
    }
   ],
   "source": [
    "x=eval(input(\"enter a 5 digit number\"))\n",
    "r1=x%10\n",
    "q1=x//10\n",
    "r2=q1%10\n",
    "q2=q1//10\n",
    "r3=q2%10\n",
    "q3=q2//10\n",
    "r4=q3%10\n",
    "q4=q3//10\n",
    "r5=q4%10\n",
    "print(f\"Reverse of {x} = {r1}{r2}{r3}{r4}{r5}\")"
   ]
  },
  {
   "cell_type": "code",
   "execution_count": 15,
   "id": "29a4ece5",
   "metadata": {},
   "outputs": [
    {
     "name": "stdout",
     "output_type": "stream",
     "text": [
      "0 0\n",
      "1 1\n",
      "2 4\n",
      "3 9\n",
      "4 16\n",
      "5 25\n",
      "6 36\n",
      "7 49\n",
      "8 64\n",
      "9 81\n"
     ]
    }
   ],
   "source": [
    "for i in range(10):\n",
    "    print(i,end=' ')\n",
    "    print(i*i)\n",
    "    "
   ]
  },
  {
   "cell_type": "code",
   "execution_count": 17,
   "id": "57c20cac",
   "metadata": {},
   "outputs": [
    {
     "name": "stdout",
     "output_type": "stream",
     "text": [
      "3 5 7 9 11 13 "
     ]
    }
   ],
   "source": [
    "for i in range(3,15,2):\n",
    "    print(i,end=' ')"
   ]
  },
  {
   "cell_type": "code",
   "execution_count": 21,
   "id": "ff30bdc7",
   "metadata": {},
   "outputs": [
    {
     "name": "stdout",
     "output_type": "stream",
     "text": [
      "enter a num:4\n",
      "4 is an even\n",
      "enter a num:6\n",
      "6 is an even\n",
      "enter a num:4\n",
      "4 is an even\n",
      "enter a num:3\n",
      "3 is an odd\n",
      "enter a num:1\n",
      "1 is an odd\n"
     ]
    }
   ],
   "source": [
    "for i in range(5):\n",
    "    num=eval(input(\"enter a num:\"))\n",
    "    if num%2==0:\n",
    "        print(f\"{num} is an even\")\n",
    "    else:\n",
    "        print(f\"{num} is an odd\")"
   ]
  },
  {
   "cell_type": "code",
   "execution_count": 28,
   "id": "560b2852",
   "metadata": {},
   "outputs": [
    {
     "name": "stdout",
     "output_type": "stream",
     "text": [
      "29 is an odd\n",
      "19 is an odd\n",
      "42 is an even\n",
      "21 is an odd\n",
      "38 is an even\n"
     ]
    }
   ],
   "source": [
    "import random \n",
    "for i in range(5):\n",
    "            num=random.randint(5,50)\n",
    "            if num%2==0:\n",
    "                print(f\"{num} is an even\")\n",
    "            else:\n",
    "                print(f\"{num} is an odd\")"
   ]
  },
  {
   "cell_type": "code",
   "execution_count": 29,
   "id": "0ed435b9",
   "metadata": {},
   "outputs": [
    {
     "data": {
      "text/plain": [
       "123"
      ]
     },
     "execution_count": 29,
     "metadata": {},
     "output_type": "execute_result"
    }
   ],
   "source": []
  },
  {
   "cell_type": "markdown",
   "id": "2772a2ce",
   "metadata": {},
   "source": [
    "summ=0\n",
    "for i in range(1,11):\n",
    "    summ=sum+i\n",
    "    print(summ)"
   ]
  },
  {
   "cell_type": "code",
   "execution_count": 32,
   "id": "79d8b74c",
   "metadata": {},
   "outputs": [
    {
     "name": "stdout",
     "output_type": "stream",
     "text": [
      "55\n"
     ]
    }
   ],
   "source": [
    "summ=0\n",
    "for i in range(1,11):\n",
    "    summ=summ+i\n",
    "print(summ)    "
   ]
  },
  {
   "cell_type": "code",
   "execution_count": 35,
   "id": "e5c758f2",
   "metadata": {},
   "outputs": [
    {
     "data": {
      "text/plain": [
       "3.3333333333333335"
      ]
     },
     "execution_count": 35,
     "metadata": {},
     "output_type": "execute_result"
    }
   ],
   "source": [
    "10/3"
   ]
  },
  {
   "cell_type": "code",
   "execution_count": 42,
   "id": "ad3f51e5",
   "metadata": {},
   "outputs": [
    {
     "name": "stdout",
     "output_type": "stream",
     "text": [
      "1\n",
      "2\n",
      "5\n",
      "10\n"
     ]
    }
   ],
   "source": [
    "\n",
    "for i in range (1,11):\n",
    "    if 10%i==0:\n",
    "        print(i)\n",
    "    "
   ]
  },
  {
   "cell_type": "code",
   "execution_count": 43,
   "id": "50a21aea",
   "metadata": {},
   "outputs": [
    {
     "name": "stdout",
     "output_type": "stream",
     "text": [
      "enter a number4\n"
     ]
    }
   ],
   "source": [
    "num=eval(input(\"enter a number\"))\n",
    "num=num+1\n",
    "def divisors():\n",
    "    for i in range(1,num):\n",
    "        if num%i==0:\n",
    "            print(i)\n",
    "            "
   ]
  },
  {
   "cell_type": "code",
   "execution_count": 5,
   "id": "edc4b578",
   "metadata": {},
   "outputs": [
    {
     "name": "stdout",
     "output_type": "stream",
     "text": [
      "how  many chances  you want 2\n",
      "9\n",
      "enter a number between 1 to 40 = 4\n",
      "your chances ended\n",
      "28\n",
      "enter a number between 1 to 40 = 28\n",
      "you won\n"
     ]
    }
   ],
   "source": [
    "import random\n",
    "chances=eval(input(\"how  many chances  you want \"))\n",
    "for i in range(chances):\n",
    "    x=random.randint(1,40)\n",
    "    print(x)\n",
    "    \n",
    "    y=eval(input(\"enter a number between 1 to 40 = \"))\n",
    "    if x==y:\n",
    "        print(\"you won\")\n",
    "        break\n",
    "    elif chances==0:\n",
    "        print(\"you lost\")\n",
    "        print(\"the number of chances left is\",chances-i-1)    \n",
    "    else :\n",
    "        print(\"your chances ended\")\n",
    "    "
   ]
  },
  {
   "cell_type": "code",
   "execution_count": 6,
   "id": "bf4b183a",
   "metadata": {},
   "outputs": [],
   "source": [
    "s1=\"how are you\""
   ]
  },
  {
   "cell_type": "code",
   "execution_count": null,
   "id": "1d06177c",
   "metadata": {},
   "outputs": [],
   "source": [
    "vikas is the main string str sl and or end fu "
   ]
  },
  {
   "cell_type": "code",
   "execution_count": 18,
   "id": "f07b5596",
   "metadata": {},
   "outputs": [
    {
     "ename": "TypeError",
     "evalue": "count() takes at least 1 argument (0 given)",
     "output_type": "error",
     "traceback": [
      "\u001b[1;31m---------------------------------------------------------------------------\u001b[0m",
      "\u001b[1;31mTypeError\u001b[0m                                 Traceback (most recent call last)",
      "Cell \u001b[1;32mIn[18], line 3\u001b[0m\n\u001b[0;32m      1\u001b[0m s1\u001b[38;5;241m=\u001b[39m\u001b[38;5;124m'\u001b[39m\u001b[38;5;124mPythonhaivikas\u001b[39m\u001b[38;5;124m'\u001b[39m\n\u001b[1;32m----> 3\u001b[0m s1\u001b[38;5;241m.\u001b[39mcount()\n",
      "\u001b[1;31mTypeError\u001b[0m: count() takes at least 1 argument (0 given)"
     ]
    }
   ],
   "source": [
    "s1='Pythonhaivikas'\n",
    "\n",
    "s1.count()"
   ]
  },
  {
   "cell_type": "code",
   "execution_count": 7,
   "id": "e32292a2",
   "metadata": {},
   "outputs": [
    {
     "data": {
      "text/plain": [
       "5"
      ]
     },
     "execution_count": 7,
     "metadata": {},
     "output_type": "execute_result"
    }
   ],
   "source": [
    "vikas='vikku'\n",
    "vikas.capitalize()\n",
    "len(vikas)"
   ]
  },
  {
   "cell_type": "code",
   "execution_count": 2,
   "id": "e539dd69",
   "metadata": {},
   "outputs": [
    {
     "data": {
      "text/plain": [
       "'v'"
      ]
     },
     "execution_count": 2,
     "metadata": {},
     "output_type": "execute_result"
    }
   ],
   "source": [
    "vik=\"vikas\"\n",
    "max(vik)"
   ]
  },
  {
   "cell_type": "code",
   "execution_count": 20,
   "id": "c8a44041",
   "metadata": {},
   "outputs": [
    {
     "data": {
      "text/plain": [
       "['h', 'n', 'o', 'p', 't', 'y']"
      ]
     },
     "execution_count": 20,
     "metadata": {},
     "output_type": "execute_result"
    }
   ],
   "source": [
    "\n",
    "\n",
    "vikas=\"python\"\n",
    "sorted(vikas)"
   ]
  },
  {
   "cell_type": "code",
   "execution_count": 18,
   "id": "fa7b2276",
   "metadata": {},
   "outputs": [
    {
     "name": "stdout",
     "output_type": "stream",
     "text": [
      "3\n",
      "2\n",
      "1\n",
      "n\n",
      "o\n",
      "h\n",
      "t\n",
      "y\n",
      "p\n"
     ]
    }
   ],
   "source": [
    "vik=\"vikas\"\n",
    "for i in  reversed(vikas):\n",
    "    print(i)"
   ]
  },
  {
   "cell_type": "code",
   "execution_count": 28,
   "id": "9b7be1b1",
   "metadata": {},
   "outputs": [
    {
     "data": {
      "text/plain": [
       "'vikas himanshu'"
      ]
     },
     "execution_count": 28,
     "metadata": {},
     "output_type": "execute_result"
    }
   ],
   "source": [
    "x='vikas'\n",
    "y='himanshu'\n",
    "\n",
    "x+\" \"+y\n"
   ]
  },
  {
   "cell_type": "code",
   "execution_count": 30,
   "id": "b8eef409",
   "metadata": {},
   "outputs": [
    {
     "ename": "TypeError",
     "evalue": "string indices must be integers, not 'str'",
     "output_type": "error",
     "traceback": [
      "\u001b[1;31m---------------------------------------------------------------------------\u001b[0m",
      "\u001b[1;31mTypeError\u001b[0m                                 Traceback (most recent call last)",
      "Cell \u001b[1;32mIn[30], line 1\u001b[0m\n\u001b[1;32m----> 1\u001b[0m x[\u001b[38;5;124m\"\u001b[39m\u001b[38;5;124mv\u001b[39m\u001b[38;5;124m\"\u001b[39m]\n",
      "\u001b[1;31mTypeError\u001b[0m: string indices must be integers, not 'str'"
     ]
    }
   ],
   "source": [
    "\n",
    "x[\"v\"]"
   ]
  },
  {
   "cell_type": "code",
   "execution_count": null,
   "id": "b1883542",
   "metadata": {},
   "outputs": [],
   "source": [
    "s1='virat.kohli@rcb.com'\n",
    "s2='rohit.sharma@mi.com'\n",
    "s2='lokesh.rahul@lsg.com'\n",
    "firstname.s1=['']"
   ]
  },
  {
   "cell_type": "code",
   "execution_count": 6,
   "id": "2508e708",
   "metadata": {},
   "outputs": [
    {
     "data": {
      "text/plain": [
       "97"
      ]
     },
     "execution_count": 6,
     "metadata": {},
     "output_type": "execute_result"
    }
   ],
   "source": [
    "ord(\"a\")"
   ]
  },
  {
   "cell_type": "code",
   "execution_count": 7,
   "id": "7532bb6b",
   "metadata": {},
   "outputs": [
    {
     "data": {
      "text/plain": [
       "12"
      ]
     },
     "execution_count": 7,
     "metadata": {},
     "output_type": "execute_result"
    }
   ],
   "source": [
    "max(10,12)"
   ]
  },
  {
   "cell_type": "code",
   "execution_count": 18,
   "id": "3ad7fe96",
   "metadata": {},
   "outputs": [
    {
     "name": "stdout",
     "output_type": "stream",
     "text": [
      "s\n",
      "a\n",
      "k\n",
      "i\n",
      "v\n"
     ]
    }
   ],
   "source": [
    "a=\"vikas\"\n",
    "for i in reversed(a):\n",
    "    \n",
    "    print(i)"
   ]
  },
  {
   "cell_type": "code",
   "execution_count": 35,
   "id": "3d20ec79",
   "metadata": {},
   "outputs": [
    {
     "name": "stdout",
     "output_type": "stream",
     "text": [
      "u\n"
     ]
    }
   ],
   "source": [
    "A=\"aeiou\"\n",
    "x=len(A)\n",
    "last=A[x-1]\n",
    "print(last)"
   ]
  },
  {
   "cell_type": "code",
   "execution_count": 41,
   "id": "10f2a4ed",
   "metadata": {},
   "outputs": [
    {
     "data": {
      "text/plain": [
       "['v', 's', 'k', 'i', 'a']"
      ]
     },
     "execution_count": 41,
     "metadata": {},
     "output_type": "execute_result"
    }
   ],
   "source": [
    "sorted(\"vikas\",reverse=True)"
   ]
  },
  {
   "cell_type": "code",
   "execution_count": 42,
   "id": "316c711d",
   "metadata": {},
   "outputs": [
    {
     "ename": "NameError",
     "evalue": "name 'reverse' is not defined",
     "output_type": "error",
     "traceback": [
      "\u001b[1;31m---------------------------------------------------------------------------\u001b[0m",
      "\u001b[1;31mNameError\u001b[0m                                 Traceback (most recent call last)",
      "Cell \u001b[1;32mIn[42], line 1\u001b[0m\n\u001b[1;32m----> 1\u001b[0m help(reverse)\n",
      "\u001b[1;31mNameError\u001b[0m: name 'reverse' is not defined"
     ]
    }
   ],
   "source": [
    "help(reverse)"
   ]
  },
  {
   "cell_type": "code",
   "execution_count": 52,
   "id": "140bccd0",
   "metadata": {},
   "outputs": [
    {
     "data": {
      "text/plain": [
       "1996870342320"
      ]
     },
     "execution_count": 52,
     "metadata": {},
     "output_type": "execute_result"
    }
   ],
   "source": [
    "a=\"iity\"\n",
    "a[-1]\n",
    "id(a)"
   ]
  },
  {
   "cell_type": "code",
   "execution_count": null,
   "id": "df955a9f",
   "metadata": {},
   "outputs": [],
   "source": [
    "-1  -2  -3  -4\n",
    " i    i   t   y\n",
    " 0    1   2   3"
   ]
  },
  {
   "cell_type": "code",
   "execution_count": 88,
   "id": "2d632485",
   "metadata": {},
   "outputs": [
    {
     "name": "stdout",
     "output_type": "stream",
     "text": [
      "6\n",
      "6\n"
     ]
    }
   ],
   "source": [
    "\n",
    "str1=\"python\"\n",
    "l=len(str1)\n",
    "for i in range(2):\n",
    "    print(l)"
   ]
  },
  {
   "cell_type": "code",
   "execution_count": 98,
   "id": "c2e077e0",
   "metadata": {},
   "outputs": [
    {
     "name": "stdout",
     "output_type": "stream",
     "text": [
      "p y t h o n "
     ]
    }
   ],
   "source": [
    "str1='python'\n",
    "for i in \"python\":\n",
    "    print(i,end=' ')"
   ]
  },
  {
   "cell_type": "code",
   "execution_count": 104,
   "id": "a7f56039",
   "metadata": {},
   "outputs": [
    {
     "name": "stdout",
     "output_type": "stream",
     "text": [
      "o o o o o o "
     ]
    }
   ],
   "source": [
    "str1='python'\n",
    "for i in range(len(str1)):\n",
    "    print(str1[4],end=' ')"
   ]
  },
  {
   "cell_type": "code",
   "execution_count": 120,
   "id": "49706920",
   "metadata": {},
   "outputs": [
    {
     "name": "stdout",
     "output_type": "stream",
     "text": [
      "0 0\n",
      "1 0\n",
      "2 0\n",
      "3 0\n",
      "4 0\n",
      "5 0\n"
     ]
    }
   ],
   "source": [
    "str1='python'\n",
    "for i in range(len(str1)):\n",
    "    print(i,len(str1)-6)"
   ]
  },
  {
   "cell_type": "code",
   "execution_count": 158,
   "id": "dace7459",
   "metadata": {},
   "outputs": [
    {
     "name": "stdout",
     "output_type": "stream",
     "text": [
      "e 1\n",
      "o 4\n",
      "o 7\n",
      "a 10\n",
      "e 12\n",
      "o 15\n",
      "u 16\n",
      "i 18\n",
      "a 20\n",
      "o 24\n",
      "o 25\n",
      "i 29\n",
      "e 31\n",
      "o 35\n",
      "a 37\n",
      "i 39\n",
      "o 43\n",
      "e 45\n",
      "a 49\n",
      "e 55\n",
      "e 57\n",
      "21\n"
     ]
    }
   ],
   "source": [
    "str2='hello how are you i am good fine bro a is more than 2 here'\n",
    "count=0\n",
    "for i in range(len(str2)):\n",
    "    if str2[i] in 'aeiou':\n",
    "        count=count+1\n",
    "        print(str2[i],i)\n",
    "        \n",
    "print(count)       "
   ]
  },
  {
   "cell_type": "code",
   "execution_count": 139,
   "id": "0526d4cc",
   "metadata": {},
   "outputs": [
    {
     "data": {
      "text/plain": [
       "'e'"
      ]
     },
     "execution_count": 139,
     "metadata": {},
     "output_type": "execute_result"
    }
   ],
   "source": [
    "str2[57]"
   ]
  },
  {
   "cell_type": "code",
   "execution_count": 167,
   "id": "e46130d1",
   "metadata": {},
   "outputs": [
    {
     "name": "stdout",
     "output_type": "stream",
     "text": [
      "a\n",
      "1\n"
     ]
    }
   ],
   "source": [
    "s11='abcad'\n",
    "s12=''\n",
    "for i in s11:\n",
    "    if i in 'aeiou':\n",
    "        if i not in s12:\n",
    "            s12=s12+i\n",
    "            print(s12)\n",
    "print(len(s12))           \n",
    "                "
   ]
  },
  {
   "cell_type": "code",
   "execution_count": null,
   "id": "5ae6d3d7",
   "metadata": {},
   "outputs": [],
   "source": []
  }
 ],
 "metadata": {
  "kernelspec": {
   "display_name": "Python 3 (ipykernel)",
   "language": "python",
   "name": "python3"
  },
  "language_info": {
   "codemirror_mode": {
    "name": "ipython",
    "version": 3
   },
   "file_extension": ".py",
   "mimetype": "text/x-python",
   "name": "python",
   "nbconvert_exporter": "python",
   "pygments_lexer": "ipython3",
   "version": "3.11.5"
  }
 },
 "nbformat": 4,
 "nbformat_minor": 5
}
