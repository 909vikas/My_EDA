{
 "cells": [
  {
   "cell_type": "code",
   "execution_count": null,
   "id": "1ee06199",
   "metadata": {},
   "outputs": [],
   "source": [
    "string1='python'\n",
    "\n",
    "for i in range (len(string1)):\n",
    "    print(i,string1[i])\n",
    "     "
   ]
  },
  {
   "cell_type": "code",
   "execution_count": null,
   "id": "9a897a29",
   "metadata": {},
   "outputs": [],
   "source": [
    "string1='python'\n",
    "n=len(string1)\n",
    "for i in range(n):\n",
    "    print(i,string1[i])"
   ]
  },
  {
   "cell_type": "code",
   "execution_count": null,
   "id": "e72cc887",
   "metadata": {},
   "outputs": [],
   "source": [
    "string1='python'\n",
    "n=len(string1)\n",
    "for i in range(n):\n",
    "    print(f\"the index of {string1[i]} is {i-n}\")"
   ]
  },
  {
   "cell_type": "code",
   "execution_count": null,
   "id": "29d0a5be",
   "metadata": {},
   "outputs": [],
   "source": [
    "s1=\"hello how are you\"\n",
    "n=len(s1)\n",
    "for i in range(n):\n",
    "    print(f\"the postive index of {s1[i]} is {i}\",end=\" \")\n",
    "    \n",
    "    print(f\"the negative index of {s1[i]} is {i-n}\")"
   ]
  },
  {
   "cell_type": "code",
   "execution_count": 10,
   "id": "2e1c806c",
   "metadata": {},
   "outputs": [
    {
     "name": "stdout",
     "output_type": "stream",
     "text": [
      "0\n",
      "1\n",
      "2\n",
      "3\n",
      "4\n",
      "5\n"
     ]
    }
   ],
   "source": [
    "x=\"python\"\n",
    "y=0\n",
    "n=len(x)\n",
    "while y<n:\n",
    "    print(y) \n",
    "    \n",
    "    y=y+1\n",
    "    "
   ]
  },
  {
   "cell_type": "code",
   "execution_count": 11,
   "id": "4e2c0649",
   "metadata": {},
   "outputs": [
    {
     "name": "stdout",
     "output_type": "stream",
     "text": [
      "2\n"
     ]
    }
   ],
   "source": [
    "s1='hello how are you i am good'\n",
    "count=0\n",
    "for i in s1:\n",
    "    if i==\"a\":\n",
    "        count=count+1\n",
    "print(count)        "
   ]
  },
  {
   "cell_type": "code",
   "execution_count": 12,
   "id": "5e2209e6",
   "metadata": {},
   "outputs": [
    {
     "name": "stdout",
     "output_type": "stream",
     "text": [
      "0 o\n",
      "1 o\n",
      "2 o\n",
      "3 o\n",
      "4 o\n",
      "5 o\n"
     ]
    }
   ],
   "source": [
    "string1='python'\n",
    "n=len(string1)\n",
    "for i in range(len(string1)):\n",
    "    print(i,string1[4])"
   ]
  },
  {
   "cell_type": "code",
   "execution_count": 13,
   "id": "21a3c2a4",
   "metadata": {},
   "outputs": [
    {
     "name": "stdout",
     "output_type": "stream",
     "text": [
      "10\n",
      "20\n"
     ]
    }
   ],
   "source": [
    "s1='hello how are you i am good'\n",
    "count=0\n",
    "for i in range(len(s1)):\n",
    "    if s1[i]==\"a\":\n",
    "        print(i)"
   ]
  },
  {
   "cell_type": "code",
   "execution_count": 17,
   "id": "98bb7eda",
   "metadata": {},
   "outputs": [
    {
     "name": "stdout",
     "output_type": "stream",
     "text": [
      "5\n"
     ]
    }
   ],
   "source": [
    "s1='hello how are '\n",
    "count=0\n",
    "for i in range(len(s1)):\n",
    "    if s1[i] in \"aeiou\":\n",
    "        count=count+1\n",
    "        \n",
    "print(count)           "
   ]
  },
  {
   "cell_type": "code",
   "execution_count": 19,
   "id": "07802b3a",
   "metadata": {},
   "outputs": [
    {
     "name": "stdout",
     "output_type": "stream",
     "text": [
      "eoa\n"
     ]
    }
   ],
   "source": [
    "s1='hello how are'\n",
    "s2=\"\"\n",
    "\n",
    "for i in s1:\n",
    "    if i in \"aeiou\":\n",
    "        if i not in s2:\n",
    "            s2=s2+i\n",
    "print(s2)            "
   ]
  },
  {
   "cell_type": "code",
   "execution_count": 23,
   "id": "1db88595",
   "metadata": {},
   "outputs": [
    {
     "name": "stdout",
     "output_type": "stream",
     "text": [
      "aoi\n"
     ]
    }
   ],
   "source": [
    "s1=\"abaoifhca\"\n",
    "s2=\"\"\n",
    "for i in s1:\n",
    "    if i in \"aeiou\":\n",
    "        if i not in s2:\n",
    "            s2=s2+i\n",
    "            \n",
    "print(s2)           "
   ]
  },
  {
   "cell_type": "code",
   "execution_count": 25,
   "id": "c7eabc91",
   "metadata": {},
   "outputs": [
    {
     "name": "stdout",
     "output_type": "stream",
     "text": [
      "aei\n"
     ]
    }
   ],
   "source": [
    "s1=\"abeci\"\n",
    "s2=\"\"\n",
    "for i in s1:\n",
    "    if i in \"aeiou\":\n",
    "        if i not in s2:\n",
    "            s2=s2+i\n",
    "print(s2)            "
   ]
  },
  {
   "cell_type": "code",
   "execution_count": 29,
   "id": "9fb7cde3",
   "metadata": {},
   "outputs": [
    {
     "ename": "IndexError",
     "evalue": "list assignment index out of range",
     "output_type": "error",
     "traceback": [
      "\u001b[1;31m---------------------------------------------------------------------------\u001b[0m",
      "\u001b[1;31mIndexError\u001b[0m                                Traceback (most recent call last)",
      "Cell \u001b[1;32mIn[29], line 2\u001b[0m\n\u001b[0;32m      1\u001b[0m s1\u001b[38;5;241m=\u001b[39m[\u001b[38;5;124m\"\u001b[39m\u001b[38;5;124mvikas\u001b[39m\u001b[38;5;124m\"\u001b[39m]\n\u001b[1;32m----> 2\u001b[0m s1[\u001b[38;5;241m1\u001b[39m]\u001b[38;5;241m=\u001b[39m[\u001b[38;5;124m\"\u001b[39m\u001b[38;5;124mE\u001b[39m\u001b[38;5;124m\"\u001b[39m]\n\u001b[0;32m      3\u001b[0m s1\n",
      "\u001b[1;31mIndexError\u001b[0m: list assignment index out of range"
     ]
    }
   ],
   "source": [
    "s1=[\"vikas\"]\n",
    "s1[1]=[\"E\"]\n",
    "s1"
   ]
  },
  {
   "cell_type": "code",
   "execution_count": null,
   "id": "ccfa24d4",
   "metadata": {},
   "outputs": [],
   "source": []
  }
 ],
 "metadata": {
  "kernelspec": {
   "display_name": "Python 3 (ipykernel)",
   "language": "python",
   "name": "python3"
  },
  "language_info": {
   "codemirror_mode": {
    "name": "ipython",
    "version": 3
   },
   "file_extension": ".py",
   "mimetype": "text/x-python",
   "name": "python",
   "nbconvert_exporter": "python",
   "pygments_lexer": "ipython3",
   "version": "3.11.5"
  }
 },
 "nbformat": 4,
 "nbformat_minor": 5
}
