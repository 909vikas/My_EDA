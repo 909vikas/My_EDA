{
 "cells": [
  {
   "cell_type": "code",
   "execution_count": null,
   "id": "ebd1dd01",
   "metadata": {},
   "outputs": [],
   "source": [
    "z='restart'\n",
    "str1=z[0]\n",
    "str2=z[1:].replace(\"r\",\"$\")\n",
    "print(str1+str2)"
   ]
  },
  {
   "cell_type": "code",
   "execution_count": null,
   "id": "87460dd1",
   "metadata": {},
   "outputs": [],
   "source": [
    "z='restart'\n",
    "z[::-1].replace(\"r\",\"$\",1)[::-1]"
   ]
  },
  {
   "cell_type": "code",
   "execution_count": null,
   "id": "860436e3",
   "metadata": {},
   "outputs": [],
   "source": [
    "z='restart'\n",
    "chr(\"restart\")"
   ]
  },
  {
   "cell_type": "code",
   "execution_count": null,
   "id": "be0da1fe",
   "metadata": {},
   "outputs": [],
   "source": [
    "str1='welcome'\n",
    "\n",
    "str1.index(\"e\")"
   ]
  },
  {
   "cell_type": "code",
   "execution_count": null,
   "id": "c7ab9840",
   "metadata": {},
   "outputs": [],
   "source": [
    "str1.find(\"q\")"
   ]
  },
  {
   "cell_type": "code",
   "execution_count": null,
   "id": "5bc9e76d",
   "metadata": {},
   "outputs": [],
   "source": [
    "str1=\"welcome\"\n",
    "s2=str1.index(\"c\")\n",
    "str1[0:s2]"
   ]
  },
  {
   "cell_type": "code",
   "execution_count": null,
   "id": "04b26ced",
   "metadata": {},
   "outputs": [],
   "source": [
    "a=\"akash.b@c.d\"\n",
    "x=a.find(\".\")\n",
    "y=a.find(\"@\")\n",
    "z=a.find(\".\",x+1)\n",
    "print(a[:x])\n",
    "print(a[x+1:y])\n",
    "print(a[y+1:z])"
   ]
  },
  {
   "cell_type": "code",
   "execution_count": null,
   "id": "b0694813",
   "metadata": {},
   "outputs": [],
   "source": [
    "v=\"hello /r/r/r/r/n/n how are you\"\n",
    "x=v.index(\"/\")\n",
    "\n",
    "#y=v.strip()\n",
    "#v.strip(\"/r/n\")\n",
    "x"
   ]
  },
  {
   "cell_type": "code",
   "execution_count": null,
   "id": "8585b75d",
   "metadata": {},
   "outputs": [],
   "source": [
    "v=\"hi hello how are you\"\n",
    "x=v.split()\n",
    "x"
   ]
  },
  {
   "cell_type": "code",
   "execution_count": null,
   "id": "3c7f5209",
   "metadata": {},
   "outputs": [],
   "source": [
    "x=input(\"enter a word: \")\n",
    "ch=len(x)\n",
    "for i in range(10):\n",
    "    print(x)\n",
    "\n",
    "print(\"the first character of the string is \",x[0]) \n",
    "print(\"the first three character of the string is \",x[0:3])\n",
    "print(\"the last three character of the string is \",x[len(x)-4:])\n",
    "for i in reversed(x):\n",
    "    print(i)\n",
    "print(\"the first three character of the string is \",x[6:7])  \n",
    "print(\"the first three character of the string is \",x[1:len(x)-1])\n",
    "print(\"String with all caps \",x.upper())\n",
    "re=x.replace(\"a\",\"e\")\n",
    "re"
   ]
  },
  {
   "cell_type": "code",
   "execution_count": null,
   "id": "e7381547",
   "metadata": {},
   "outputs": [],
   "source": [
    "str1 = input(\"ENTER string : \")\n",
    "count = 0\n",
    "length = len(str1)\n",
    "for i in str1:\n",
    "     if i==' ':\n",
    "        count = count + 1\n",
    "print(f'no. of words are {count+1}')"
   ]
  },
  {
   "cell_type": "code",
   "execution_count": null,
   "id": "5e438120",
   "metadata": {},
   "outputs": [],
   "source": [
    "str1 = input(\"ENTER string : \")\n",
    "str2=\"\"\n",
    "for i in str1:\n",
    "    if i in \"aeiou\":\n",
    "        if i not in str2:\n",
    "            str2=str2+i\n",
    "print(\"number of vowels in the string are :\",str2)            \n",
    "print(\"the number of string in\",str1,\"is :\",len(str2))\n",
    "        "
   ]
  },
  {
   "cell_type": "code",
   "execution_count": null,
   "id": "b883600f",
   "metadata": {},
   "outputs": [],
   "source": []
  },
  {
   "cell_type": "code",
   "execution_count": 5,
   "id": "d7bfa4ab",
   "metadata": {},
   "outputs": [
    {
     "name": "stdout",
     "output_type": "stream",
     "text": [
      "enter a stringVikv\n",
      "Vikv is not a palindrome word\n"
     ]
    }
   ],
   "source": [
    "f1=input(\"enter a string\").casefold()\n",
    "if   \n",
    "    if f1.startswith(f1[0])==f1.endswith(f1[0]):\n",
    "        print(f1,\"is a palindrome word\")\n",
    "    else:\n",
    "        print(f1,\"is not a palindrome word\")\n",
    "\n",
    "    "
   ]
  },
  {
   "cell_type": "code",
   "execution_count": 12,
   "id": "a86adf0a",
   "metadata": {},
   "outputs": [
    {
     "name": "stdout",
     "output_type": "stream",
     "text": [
      "enter string: malayalam\n",
      "malayalam is palindrome\n"
     ]
    }
   ],
   "source": [
    "str1 = input('enter string: ').casefold()\n",
    "if str1 == str1[::-1]:\n",
    "    print(f\"{str1} is palindrome\")\n",
    "else:\n",
    "    print(f\"{str1} is not a plaindrome\")"
   ]
  },
  {
   "cell_type": "code",
   "execution_count": 11,
   "id": "243574cc",
   "metadata": {},
   "outputs": [
    {
     "name": "stdout",
     "output_type": "stream",
     "text": [
      "Enter your string: kanak\n",
      "k*nak!!!\n"
     ]
    }
   ],
   "source": [
    "user= input(\"Enter your string: \")\n",
    "if len(user) >= 2:\n",
    "    newstring = user[:1] + '*' + user[2:] #replace *\n",
    "    newstring += '!!!'\n",
    "    print(newstring)\n",
    "else:\n",
    "    print(\"enter least two characters.\")"
   ]
  },
  {
   "cell_type": "code",
   "execution_count": 13,
   "id": "96e35ec7",
   "metadata": {},
   "outputs": [
    {
     "name": "stdout",
     "output_type": "stream",
     "text": [
      "How many email addresses will you be entering? vikas@student.college.edu\n"
     ]
    },
    {
     "ename": "ValueError",
     "evalue": "invalid literal for int() with base 10: 'vikas@student.college.edu'",
     "output_type": "error",
     "traceback": [
      "\u001b[1;31m---------------------------------------------------------------------------\u001b[0m",
      "\u001b[1;31mValueError\u001b[0m                                Traceback (most recent call last)",
      "Cell \u001b[1;32mIn[13], line 1\u001b[0m\n\u001b[1;32m----> 1\u001b[0m num_addresses \u001b[38;5;241m=\u001b[39m \u001b[38;5;28mint\u001b[39m(\u001b[38;5;28minput\u001b[39m(\u001b[38;5;124m\"\u001b[39m\u001b[38;5;124mHow many email addresses will you be entering? \u001b[39m\u001b[38;5;124m\"\u001b[39m))\n\u001b[0;32m      2\u001b[0m student_count \u001b[38;5;241m=\u001b[39m \u001b[38;5;241m0\u001b[39m\n\u001b[0;32m      3\u001b[0m professor_count \u001b[38;5;241m=\u001b[39m \u001b[38;5;241m0\u001b[39m\n",
      "\u001b[1;31mValueError\u001b[0m: invalid literal for int() with base 10: 'vikas@student.college.edu'"
     ]
    }
   ],
   "source": [
    "num_addresses = int(input(\"How many email addresses will you be entering? \"))\n",
    "student_count = 0\n",
    "professor_count = 0\n",
    "for i in range(num_addresses):\n",
    "    email = input(\"Enter an email address: \")\n",
    "if email.endswith(\"@student.college.edu\"):\n",
    "    student_count += 1\n",
    "elif email.endswith(\"@prof.college.edu\"):\n",
    "    professor_count += 1\n",
    "    \n",
    "if student_count == num_addresses:\n",
    "    print(\"All entered addresses are student addresses.\")\n",
    "elif professor_count == num_addresses:\n",
    "    print(\"All entered addresses are professor addresses.\")\n",
    "else:\n",
    "    print(\"There were some student addresses and some professor addresses entered\")"
   ]
  },
  {
   "cell_type": "code",
   "execution_count": 16,
   "id": "3e318c0b",
   "metadata": {},
   "outputs": [
    {
     "name": "stdout",
     "output_type": "stream",
     "text": [
      "enter the string: vikas\n",
      "VV\n",
      "II\n",
      "KK\n",
      "AA\n",
      "SS\n"
     ]
    }
   ],
   "source": [
    "user = input(\"enter the string: \").upper()\n",
    "for i in user:\n",
    "    print(i*2)"
   ]
  },
  {
   "cell_type": "code",
   "execution_count": 19,
   "id": "a12ccdff",
   "metadata": {},
   "outputs": [
    {
     "name": "stdout",
     "output_type": "stream",
     "text": [
      "enter a word that contains a word a : vikasbah\n",
      "first part vika\n",
      "second part sbah\n"
     ]
    }
   ],
   "source": [
    "x=input(\"enter a word that contains a word a : \")\n",
    "y=x.find(\"a\")\n",
    "if y!= -1:\n",
    "    first=x[:y+1]\n",
    "    second=x[y+1:]\n",
    "    print(\"first part\",first)\n",
    "    print(\"second part\",second)"
   ]
  },
  {
   "cell_type": "code",
   "execution_count": 29,
   "id": "2a7619c2",
   "metadata": {},
   "outputs": [
    {
     "name": "stdout",
     "output_type": "stream",
     "text": [
      "enter a word : vikasrajak\n"
     ]
    }
   ],
   "source": [
    "x=input(\"enter a word : \")\n",
    "if len(x)<=2:\n",
    "    z =x.capitalize()*x\n",
    "    z\n"
   ]
  },
  {
   "cell_type": "code",
   "execution_count": 39,
   "id": "9bb26913",
   "metadata": {},
   "outputs": [
    {
     "data": {
      "text/plain": [
       "'VIkas rajak is a good boy'"
      ]
     },
     "execution_count": 39,
     "metadata": {},
     "output_type": "execute_result"
    }
   ],
   "source": [
    "x=\"VIkas rajak is a good boy\"\n",
    "x.split('a')\n",
    "x"
   ]
  },
  {
   "cell_type": "code",
   "execution_count": null,
   "id": "6ffda2a8",
   "metadata": {},
   "outputs": [],
   "source": []
  }
 ],
 "metadata": {
  "kernelspec": {
   "display_name": "Python 3 (ipykernel)",
   "language": "python",
   "name": "python3"
  },
  "language_info": {
   "codemirror_mode": {
    "name": "ipython",
    "version": 3
   },
   "file_extension": ".py",
   "mimetype": "text/x-python",
   "name": "python",
   "nbconvert_exporter": "python",
   "pygments_lexer": "ipython3",
   "version": "3.11.5"
  }
 },
 "nbformat": 4,
 "nbformat_minor": 5
}
