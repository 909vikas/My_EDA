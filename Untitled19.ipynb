{
 "cells": [
  {
   "cell_type": "code",
   "execution_count": null,
   "id": "eb5993c1",
   "metadata": {},
   "outputs": [],
   "source": [
    "a=[1,3,6,\"q\",\"w\"]\n",
    "a.copy(\"v\")\n",
    "a"
   ]
  },
  {
   "cell_type": "code",
   "execution_count": null,
   "id": "f795b7ae",
   "metadata": {},
   "outputs": [],
   "source": [
    "a=[\"vikas\",\"vimak\",\"himanshu\"]\n",
    "a1=[\"\"]\n",
    "for i in range(len(a)):\n",
    "    if \"vikas\" in i:\n",
    "        a1=a1+i\n",
    "        \n",
    "a1        "
   ]
  },
  {
   "cell_type": "code",
   "execution_count": null,
   "id": "d6e7ff40",
   "metadata": {},
   "outputs": [],
   "source": [
    "a=[\"vikas\",\"vimak\",\"himanshu\",2,\"vikas\",2,5,7,\"w\",64,\"vikas\"]\n",
    "#l1=a.index(\"vikas\")\n",
    "#l2=a.index(\"vikas\",l1+1)\n",
    "#l3=a.index(\"vikas\",l2+1)\n",
    "#a.remove(\"vikas\")\n",
    "o=a.index(2)\n",
    "o"
   ]
  },
  {
   "cell_type": "code",
   "execution_count": null,
   "id": "476e64ac",
   "metadata": {},
   "outputs": [],
   "source": [
    "del(a[2])\n",
    "a"
   ]
  },
  {
   "cell_type": "code",
   "execution_count": null,
   "id": "02375d0d",
   "metadata": {},
   "outputs": [],
   "source": [
    "a=[\"vikas\",\"vimak\",\"himanshu\",2,\"vikas\",2,5,7,\"w\",64,\"vikas\"]\n",
    "for vikas in a:\n",
    "    if \"vikas\" in a:\n",
    "        a.remove(\"vikas\")\n",
    "a        "
   ]
  },
  {
   "cell_type": "code",
   "execution_count": null,
   "id": "0bf4389a",
   "metadata": {},
   "outputs": [],
   "source": [
    "a=[\"vikas\",\"vimak\",\"himanshu\",2,\"vikas\",2,5,7,\"w\",64,\"vikas\"]\n",
    "dir(a)"
   ]
  },
  {
   "cell_type": "code",
   "execution_count": 16,
   "id": "316fedc8",
   "metadata": {},
   "outputs": [
    {
     "data": {
      "text/plain": [
       "['chennai', 'mumbai']"
      ]
     },
     "execution_count": 16,
     "metadata": {},
     "output_type": "execute_result"
    }
   ],
   "source": [
    "l1=['hyd','chennai','mumbai']\n",
    "l2=[]\n",
    "for i in l1:\n",
    "    if len(i)>3:\n",
    "        l2.append(i)\n",
    "l2\n",
    "    "
   ]
  },
  {
   "cell_type": "code",
   "execution_count": null,
   "id": "275f9501",
   "metadata": {},
   "outputs": [],
   "source": [
    "a.insert(9,\"v\")\n",
    "a"
   ]
  },
  {
   "cell_type": "code",
   "execution_count": null,
   "id": "556d159c",
   "metadata": {},
   "outputs": [],
   "source": [
    "a.insert(3,\"vivi\")\n",
    "a"
   ]
  },
  {
   "cell_type": "code",
   "execution_count": null,
   "id": "04ffdba2",
   "metadata": {},
   "outputs": [],
   "source": [
    "v=\"python\"\n",
    "dir(v)"
   ]
  },
  {
   "cell_type": "code",
   "execution_count": 1,
   "id": "d2ad0751",
   "metadata": {},
   "outputs": [
    {
     "data": {
      "text/plain": [
       "['Mumbai', 'Chennai']"
      ]
     },
     "execution_count": 1,
     "metadata": {},
     "output_type": "execute_result"
    }
   ],
   "source": [
    "l1=['Hyd','Mumbai','Chennai']\n",
    "# Print the elemnents which are having len>3\n",
    "l2=[]\n",
    "for i in l1:\n",
    "    if len(i)>3:\n",
    "        l2.append(i)\n",
    "l2l1=[\"hyd\",\"vikass\",\"vimal\"]\n",
    "l1=[]\n",
    "for c in l1:\n",
    "    if len(c)>3:\n",
    "        print(l1[c])\n",
    "    else:\n",
    "        print(\"x\")\n"
   ]
  },
  {
   "cell_type": "code",
   "execution_count": 23,
   "id": "88fd5483",
   "metadata": {},
   "outputs": [],
   "source": [
    "l1=[\"hyd\",\"vikass\",\"vimal\"]\n",
    "l1=[]\n",
    "for c in l1:\n",
    "    if len(c)>3:\n",
    "        print(l1[c])\n",
    "    else:\n",
    "        print(\"x\")\n",
    "    "
   ]
  },
  {
   "cell_type": "code",
   "execution_count": 29,
   "id": "506436f8",
   "metadata": {},
   "outputs": [
    {
     "name": "stdout",
     "output_type": "stream",
     "text": [
      "['vimal', 'vikass', 'hyd']\n"
     ]
    }
   ],
   "source": [
    "l1=[\"hyd\",\"vikass\",\"vimal\"]\n",
    "l1.sort(reverse=True)\n",
    "print(l1)"
   ]
  },
  {
   "cell_type": "code",
   "execution_count": null,
   "id": "29f85e58",
   "metadata": {},
   "outputs": [],
   "source": []
  }
 ],
 "metadata": {
  "kernelspec": {
   "display_name": "Python 3 (ipykernel)",
   "language": "python",
   "name": "python3"
  },
  "language_info": {
   "codemirror_mode": {
    "name": "ipython",
    "version": 3
   },
   "file_extension": ".py",
   "mimetype": "text/x-python",
   "name": "python",
   "nbconvert_exporter": "python",
   "pygments_lexer": "ipython3",
   "version": "3.11.5"
  }
 },
 "nbformat": 4,
 "nbformat_minor": 5
}
