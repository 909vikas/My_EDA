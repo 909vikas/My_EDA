{
 "cells": [
  {
   "cell_type": "code",
   "execution_count": 5,
   "id": "cd3eccde",
   "metadata": {},
   "outputs": [
    {
     "name": "stdout",
     "output_type": "stream",
     "text": [
      "Enter a number: -7\n",
      "Negative\n"
     ]
    }
   ],
   "source": [
    "num = eval(input(\"Enter a number: \"))\n",
    "if num > 0:\n",
    "     print(\"Postive\")\n",
    "elif num < 0:\n",
    "     print(\"Negative\")\n",
    "else:\n",
    "     print(\"Zero\")"
   ]
  },
  {
   "cell_type": "code",
   "execution_count": 34,
   "id": "1dfd7392",
   "metadata": {},
   "outputs": [
    {
     "name": "stdout",
     "output_type": "stream",
     "text": [
      "75 is odd\n"
     ]
    }
   ],
   "source": [
    "import random\n",
    "x=random.randint(9,19)\n",
    "\n",
    "def check():\n",
    "    try:\n",
    "        x=random.randint(9,198)\n",
    "        if x%2==0:\n",
    "            print(f\"{x} is even\")\n",
    "        else:\n",
    "            print(f\"{x} is odd\")\n",
    "            \n",
    "             \n",
    "    except Exception as e:\n",
    "           print(e)\n"
   ]
  },
  {
   "cell_type": "code",
   "execution_count": 46,
   "id": "81a45cc5",
   "metadata": {},
   "outputs": [
    {
     "name": "stdout",
     "output_type": "stream",
     "text": [
      "enter 2nd num :9\n",
      "fisrt number is:1\n",
      "second number is:9\n",
      "out\n"
     ]
    }
   ],
   "source": [
    "def randomnum ():\n",
    "    num1=random.randint(1,10)\n",
    "    num2=eval(input(\"enter 2nd num :\"))\n",
    "    print(f\"fisrt number is:{num1}\")\n",
    "    print(f\"second number is:{num2}\")\n",
    "    if num1==num2:\n",
    "        print(\"in\")\n",
    "        \n",
    "    else:\n",
    "        print(\"out\")\n"
   ]
  },
  {
   "cell_type": "code",
   "execution_count": 7,
   "id": "4f55c60e",
   "metadata": {},
   "outputs": [
    {
     "ename": "NameError",
     "evalue": "name 'check' is not defined",
     "output_type": "error",
     "traceback": [
      "\u001b[1;31m---------------------------------------------------------------------------\u001b[0m",
      "\u001b[1;31mNameError\u001b[0m                                 Traceback (most recent call last)",
      "Cell \u001b[1;32mIn[7], line 1\u001b[0m\n\u001b[1;32m----> 1\u001b[0m check ()\n\u001b[0;32m      2\u001b[0m \u001b[38;5;28mprint\u001b[39m(\u001b[38;5;124m\"\u001b[39m\u001b[38;5;124m=========\u001b[39m\u001b[38;5;124m\"\u001b[39m)\n\u001b[0;32m      3\u001b[0m randomnum ()\n",
      "\u001b[1;31mNameError\u001b[0m: name 'check' is not defined"
     ]
    }
   ],
   "source": [
    "check ()\n",
    "print(\"=========\")\n",
    "randomnum ()"
   ]
  },
  {
   "cell_type": "code",
   "execution_count": 24,
   "id": "dc003a97",
   "metadata": {},
   "outputs": [
    {
     "ename": "SyntaxError",
     "evalue": "invalid syntax. Perhaps you forgot a comma? (1422006377.py, line 3)",
     "output_type": "error",
     "traceback": [
      "\u001b[1;36m  Cell \u001b[1;32mIn[24], line 3\u001b[1;36m\u001b[0m\n\u001b[1;33m    out=(avg.2)\u001b[0m\n\u001b[1;37m         ^\u001b[0m\n\u001b[1;31mSyntaxError\u001b[0m\u001b[1;31m:\u001b[0m invalid syntax. Perhaps you forgot a comma?\n"
     ]
    }
   ],
   "source": [
    "def aver(n1,n2,n3):\n",
    "        avg=(n1+n2+n3)/3\n",
    "        out=(avg,2)\n",
    "        print(out)\n",
    "    \n",
    "aver(3,6,5)    "
   ]
  },
  {
   "cell_type": "code",
   "execution_count": 20,
   "id": "5e230bbc",
   "metadata": {},
   "outputs": [
    {
     "name": "stdout",
     "output_type": "stream",
     "text": [
      "num1 : 3\n",
      "num12 : 7\n",
      "10\n"
     ]
    }
   ],
   "source": [
    "def summm(num1,num2):\n",
    "    print(\"num1 :\",num1)\n",
    "    print(\"num12 :\",num2)\n",
    "    add=num1+num2\n",
    "    print(add)\n",
    "summm(3,7)    "
   ]
  },
  {
   "cell_type": "code",
   "execution_count": 27,
   "id": "880e554c",
   "metadata": {},
   "outputs": [
    {
     "name": "stdout",
     "output_type": "stream",
     "text": [
      "the total bill is :1103.3\n"
     ]
    }
   ],
   "source": [
    "def bill_pay(bill,tip_per,):\n",
    "    tip_amount=bill*tip_per/100\n",
    "    total_amount=bill+tip_amount\n",
    "    print(f\"the total bill is :{total_amount}\")\n",
    "bill_pay(1003,10)    "
   ]
  },
  {
   "cell_type": "code",
   "execution_count": 30,
   "id": "7000a9f9",
   "metadata": {},
   "outputs": [
    {
     "name": "stdout",
     "output_type": "stream",
     "text": [
      "5 is odd\n"
     ]
    }
   ],
   "source": [
    "def check(x):\n",
    "    \n",
    "        if x%2==0:\n",
    "            print(f\"{x} is even\")\n",
    "        else:\n",
    "            print(f\"{x} is odd\")\n",
    "check(5)           "
   ]
  },
  {
   "cell_type": "code",
   "execution_count": null,
   "id": "748861ed",
   "metadata": {},
   "outputs": [],
   "source": []
  }
 ],
 "metadata": {
  "kernelspec": {
   "display_name": "Python 3 (ipykernel)",
   "language": "python",
   "name": "python3"
  },
  "language_info": {
   "codemirror_mode": {
    "name": "ipython",
    "version": 3
   },
   "file_extension": ".py",
   "mimetype": "text/x-python",
   "name": "python",
   "nbconvert_exporter": "python",
   "pygments_lexer": "ipython3",
   "version": "3.11.5"
  }
 },
 "nbformat": 4,
 "nbformat_minor": 5
}
