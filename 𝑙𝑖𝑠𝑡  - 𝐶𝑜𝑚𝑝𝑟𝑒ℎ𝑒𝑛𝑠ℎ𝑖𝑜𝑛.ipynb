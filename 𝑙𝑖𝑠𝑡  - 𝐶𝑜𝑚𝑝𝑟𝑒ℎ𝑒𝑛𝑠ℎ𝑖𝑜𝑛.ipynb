{
 "cells": [
  {
   "cell_type": "code",
   "execution_count": 2,
   "id": "7840f454",
   "metadata": {},
   "outputs": [
    {
     "data": {
      "text/plain": [
       "['can', 'can', 'you', 'canner', 'can', 'not', 'can', 'you', 'buy', 'can']"
      ]
     },
     "execution_count": 2,
     "metadata": {},
     "output_type": "execute_result"
    }
   ],
   "source": [
    "s1='can can you canner can not can you buy can'\n",
    "l=s1.split()\n",
    "l"
   ]
  },
  {
   "cell_type": "code",
   "execution_count": 11,
   "id": "2188d1aa",
   "metadata": {},
   "outputs": [
    {
     "name": "stdout",
     "output_type": "stream",
     "text": [
      "can : 5\n",
      "you : 2\n",
      "canner : 1\n",
      "not : 1\n",
      "buy : 1\n"
     ]
    }
   ],
   "source": [
    "l1=[]\n",
    "for i in l:\n",
    "    if i not in l1:\n",
    "        print(i,\":\",l.count(i))\n",
    "        l1.append(i)\n",
    "       "
   ]
  },
  {
   "cell_type": "code",
   "execution_count": 14,
   "id": "53a176e1",
   "metadata": {},
   "outputs": [
    {
     "name": "stdout",
     "output_type": "stream",
     "text": [
      "Mumbai\n",
      "Chennai\n",
      "Bengaluru\n"
     ]
    }
   ],
   "source": [
    "l1=['hyd','Mumbai','Chennai','Bengaluru']\n",
    "# l2=['Mumbai','Chennai','Bengaluru']\n",
    "for i in l1:\n",
    "    if len(i)>5:\n",
    "        print(i)"
   ]
  },
  {
   "cell_type": "code",
   "execution_count": 19,
   "id": "3b4766d1",
   "metadata": {},
   "outputs": [
    {
     "data": {
      "text/plain": [
       "[1, 4, 9, 16, 25, 36, 49, 64, 81, 100]"
      ]
     },
     "execution_count": 19,
     "metadata": {},
     "output_type": "execute_result"
    }
   ],
   "source": [
    "x=[]\n",
    "for i in range(1,11):\n",
    "    x.append(i*i)\n",
    "x    "
   ]
  },
  {
   "cell_type": "markdown",
   "id": "7a542c05",
   "metadata": {},
   "source": [
    "$list$-$Comprehenshion$"
   ]
  },
  {
   "cell_type": "code",
   "execution_count": 23,
   "id": "e00d00e7",
   "metadata": {},
   "outputs": [
    {
     "data": {
      "text/plain": [
       "[1, 4, 9, 16, 25, 36, 49, 64, 81, 100]"
      ]
     },
     "execution_count": 23,
     "metadata": {},
     "output_type": "execute_result"
    }
   ],
   "source": [
    "num=[(i*i) for i in range(1,11)]\n",
    "num"
   ]
  },
  {
   "cell_type": "code",
   "execution_count": 24,
   "id": "d29d516c",
   "metadata": {},
   "outputs": [
    {
     "data": {
      "text/plain": [
       "['Hyd', 'Mumbai']"
      ]
     },
     "execution_count": 24,
     "metadata": {},
     "output_type": "execute_result"
    }
   ],
   "source": [
    "l1=['hyd','mumbai']\n",
    "l2=[i.capitalize() for i in l1]\n",
    "l2"
   ]
  },
  {
   "cell_type": "markdown",
   "id": "e7c4eb46",
   "metadata": {},
   "source": [
    " $patteren2$"
   ]
  },
  {
   "cell_type": "code",
   "execution_count": 27,
   "id": "45c548cc",
   "metadata": {},
   "outputs": [
    {
     "data": {
      "text/plain": [
       "['Mumbai', 'Chennai', 'Bengaluru']"
      ]
     },
     "execution_count": 27,
     "metadata": {},
     "output_type": "execute_result"
    }
   ],
   "source": [
    "l1=['hyd','Mumbai','Chennai','Bengaluru']\n",
    "l2=[]\n",
    "for i in l1:\n",
    "    if len(i)>5:\n",
    "        l2.append(i)\n",
    "l2        "
   ]
  },
  {
   "cell_type": "code",
   "execution_count": 29,
   "id": "e06f7145",
   "metadata": {},
   "outputs": [
    {
     "data": {
      "text/plain": [
       "['Mumbai', 'Chennai', 'Bengaluru']"
      ]
     },
     "execution_count": 29,
     "metadata": {},
     "output_type": "execute_result"
    }
   ],
   "source": [
    "l1=['hyd','Mumbai','Chennai','Bengaluru']\n",
    "l2=[i for i in l1 if len(i)>5]\n",
    "l2"
   ]
  },
  {
   "cell_type": "code",
   "execution_count": 37,
   "id": "b8c1006d",
   "metadata": {},
   "outputs": [
    {
     "data": {
      "text/plain": [
       "['1: is odd',\n",
       " '2: is even',\n",
       " '3: is odd',\n",
       " '4: is even',\n",
       " '5: is odd',\n",
       " '6: is even',\n",
       " '7: is odd',\n",
       " '8: is even',\n",
       " '9: is odd',\n",
       " '10: is even']"
      ]
     },
     "execution_count": 37,
     "metadata": {},
     "output_type": "execute_result"
    }
   ],
   "source": [
    "l=[]\n",
    "for i in range(1,11):\n",
    "    if i%2==0:\n",
    "        l.append(f\"{i}: is even\")\n",
    "    else:\n",
    "        l.append(f\"{i}: is odd\")\n",
    "l        "
   ]
  },
  {
   "cell_type": "code",
   "execution_count": 39,
   "id": "7747746d",
   "metadata": {},
   "outputs": [
    {
     "data": {
      "text/plain": [
       "['1: is odd',\n",
       " '2: is even',\n",
       " '3: is odd',\n",
       " '4: is even',\n",
       " '5: is odd',\n",
       " '6: is even',\n",
       " '7: is odd',\n",
       " '8: is even',\n",
       " '9: is odd',\n",
       " '10: is even']"
      ]
     },
     "execution_count": 39,
     "metadata": {},
     "output_type": "execute_result"
    }
   ],
   "source": [
    "l=[f\"{i}: is even\" if i%2==0  else f\"{i}: is odd\" for i in range(1,11)]\n",
    "l"
   ]
  },
  {
   "cell_type": "code",
   "execution_count": null,
   "id": "8cae23f1",
   "metadata": {},
   "outputs": [],
   "source": []
  }
 ],
 "metadata": {
  "kernelspec": {
   "display_name": "Python 3 (ipykernel)",
   "language": "python",
   "name": "python3"
  },
  "language_info": {
   "codemirror_mode": {
    "name": "ipython",
    "version": 3
   },
   "file_extension": ".py",
   "mimetype": "text/x-python",
   "name": "python",
   "nbconvert_exporter": "python",
   "pygments_lexer": "ipython3",
   "version": "3.11.5"
  }
 },
 "nbformat": 4,
 "nbformat_minor": 5
}
