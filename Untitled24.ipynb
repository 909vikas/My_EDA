{
 "cells": [
  {
   "cell_type": "code",
   "execution_count": 21,
   "id": "f47548c9",
   "metadata": {},
   "outputs": [
    {
     "name": "stdout",
     "output_type": "stream",
     "text": [
      "enter no. : 5\n",
      "unique are:  ['5']\n"
     ]
    }
   ],
   "source": [
    "#1. Find the number of unique numbers in your phone number and store it in one list:\n",
    "\n",
    "num = input(\"enter no. : \")\n",
    "l1 = []\n",
    "for i in num:\n",
    "    if len(num)>0 and i not in l1:\n",
    "        l1.append(i)\n",
    "print(\"unique are: \",l1)"
   ]
  },
  {
   "cell_type": "code",
   "execution_count": 15,
   "id": "f1180c61",
   "metadata": {},
   "outputs": [
    {
     "data": {
      "text/plain": [
       "'dlrow olleH'"
      ]
     },
     "execution_count": 15,
     "metadata": {},
     "output_type": "execute_result"
    }
   ],
   "source": [
    "#2. String=” Hello world” reverse the given string.\n",
    "\n",
    "s1=\"Hello world\"\n",
    "x=s1[::-1]\n",
    "x"
   ]
  },
  {
   "cell_type": "code",
   "execution_count": 16,
   "id": "9919ab0d",
   "metadata": {},
   "outputs": [
    {
     "data": {
      "text/plain": [
       "'ASjhdbgFYJGTH%6tey89437'"
      ]
     },
     "execution_count": 16,
     "metadata": {},
     "output_type": "execute_result"
    }
   ],
   "source": [
    "#3. S=” ASjhdbgjhdbFYYJGJYTFJHGghdbhj%%6teyt894yt83yt87yt87ye”. find the unique\n",
    "#values in the given string.\n",
    "\n",
    "s1=\"ASjhdbgjhdbFYYJGJYTFJHGghdbhj%%6teyt894yt83yt87yt87ye\"\n",
    "s2=\"\"\n",
    "for i in s1:\n",
    "    if i in \"ASjhdbgjhdbFYYJGJYTFJHGghdbhj%%6teyt894yt83yt87yt87ye\":\n",
    "        if i not in s2:\n",
    "            s2=s2+i\n",
    "s2            "
   ]
  },
  {
   "cell_type": "code",
   "execution_count": 19,
   "id": "727ad5ec",
   "metadata": {},
   "outputs": [
    {
     "name": "stdout",
     "output_type": "stream",
     "text": [
      "Prime numbers from 1 to 100: [2, 3, 5, 7, 11, 13, 17, 19, 23, 29, 31, 37, 41, 43, 47, 53, 59, 61, 67, 71, 73, 79, 83, 89, 97]\n"
     ]
    }
   ],
   "source": [
    "#Certainly! You can use a simple Python program to find and store prime numbers from 1 to 100 in a list. Here's an example:\n",
    "\n",
    "#```python\n",
    "def is_prime(num):\n",
    "    if num < 2:\n",
    "        return False\n",
    "    for i in range(2, int(num**0.5) + 1):\n",
    "        if num % i == 0:\n",
    "            return False\n",
    "    return True\n",
    "\n",
    "# Find and store prime numbers from 1 to 100 in a list\n",
    "prime_numbers = [num for num in range(1, 101) if is_prime(num)]\n",
    "\n",
    "print(\"Prime numbers from 1 to 100:\", prime_numbers)\n",
    "\n",
    "\n"
   ]
  },
  {
   "cell_type": "code",
   "execution_count": 22,
   "id": "6862c280",
   "metadata": {},
   "outputs": [
    {
     "name": "stdout",
     "output_type": "stream",
     "text": [
      "my name = vikas\n"
     ]
    }
   ],
   "source": [
    "with open(\"vikku.txt\", \"w\") as file:\n",
    "    file.write(\"my name = vikas\")\n",
    "with open(\"vikku.txt\",'r') as file:\n",
    "    print(file.read())"
   ]
  },
  {
   "cell_type": "code",
   "execution_count": 24,
   "id": "b0d7acb4",
   "metadata": {},
   "outputs": [
    {
     "data": {
      "text/html": [
       "<div>\n",
       "<style scoped>\n",
       "    .dataframe tbody tr th:only-of-type {\n",
       "        vertical-align: middle;\n",
       "    }\n",
       "\n",
       "    .dataframe tbody tr th {\n",
       "        vertical-align: top;\n",
       "    }\n",
       "\n",
       "    .dataframe thead th {\n",
       "        text-align: right;\n",
       "    }\n",
       "</style>\n",
       "<table border=\"1\" class=\"dataframe\">\n",
       "  <thead>\n",
       "    <tr style=\"text-align: right;\">\n",
       "      <th></th>\n",
       "      <th>name</th>\n",
       "      <th>age</th>\n",
       "      <th>Salary</th>\n",
       "    </tr>\n",
       "  </thead>\n",
       "  <tbody>\n",
       "    <tr>\n",
       "      <th>0</th>\n",
       "      <td>vikas</td>\n",
       "      <td>22</td>\n",
       "      <td>2000</td>\n",
       "    </tr>\n",
       "    <tr>\n",
       "      <th>1</th>\n",
       "      <td>vim</td>\n",
       "      <td>23</td>\n",
       "      <td>12000</td>\n",
       "    </tr>\n",
       "    <tr>\n",
       "      <th>2</th>\n",
       "      <td>om</td>\n",
       "      <td>23</td>\n",
       "      <td>2000</td>\n",
       "    </tr>\n",
       "    <tr>\n",
       "      <th>3</th>\n",
       "      <td>lal</td>\n",
       "      <td>21</td>\n",
       "      <td>10300</td>\n",
       "    </tr>\n",
       "    <tr>\n",
       "      <th>4</th>\n",
       "      <td>raj</td>\n",
       "      <td>24</td>\n",
       "      <td>18220</td>\n",
       "    </tr>\n",
       "  </tbody>\n",
       "</table>\n",
       "</div>"
      ],
      "text/plain": [
       "    name  age  Salary\n",
       "0  vikas   22    2000\n",
       "1    vim   23   12000\n",
       "2     om   23    2000\n",
       "3    lal   21   10300\n",
       "4    raj   24   18220"
      ]
     },
     "execution_count": 24,
     "metadata": {},
     "output_type": "execute_result"
    }
   ],
   "source": [
    "import pandas as pd\n",
    "l1 = {'name':['vikas','vim','om','lal','raj'],'age':[22,23,23,21,24],'Salary':[2000,12000,2000,10300,18220]}\n",
    "df = pd.DataFrame(l1)\n",
    "df"
   ]
  },
  {
   "cell_type": "code",
   "execution_count": null,
   "id": "dc6495a5",
   "metadata": {},
   "outputs": [],
   "source": []
  }
 ],
 "metadata": {
  "kernelspec": {
   "display_name": "Python 3 (ipykernel)",
   "language": "python",
   "name": "python3"
  },
  "language_info": {
   "codemirror_mode": {
    "name": "ipython",
    "version": 3
   },
   "file_extension": ".py",
   "mimetype": "text/x-python",
   "name": "python",
   "nbconvert_exporter": "python",
   "pygments_lexer": "ipython3",
   "version": "3.11.5"
  }
 },
 "nbformat": 4,
 "nbformat_minor": 5
}
