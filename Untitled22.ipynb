{
 "cells": [
  {
   "cell_type": "code",
   "execution_count": 1,
   "id": "77925917",
   "metadata": {},
   "outputs": [
    {
     "data": {
      "text/plain": [
       "['hi', 'how', 'are', 'you']"
      ]
     },
     "execution_count": 1,
     "metadata": {},
     "output_type": "execute_result"
    }
   ],
   "source": [
    "s1=\"hi how are you\"\n",
    "l1=s1.split()\n",
    "l1"
   ]
  },
  {
   "cell_type": "code",
   "execution_count": 2,
   "id": "e89989a6",
   "metadata": {},
   "outputs": [
    {
     "data": {
      "text/plain": [
       "'h-i- -h-o-w- -a-r-e- -y-o-u'"
      ]
     },
     "execution_count": 2,
     "metadata": {},
     "output_type": "execute_result"
    }
   ],
   "source": [
    "\"-\".join(s1)"
   ]
  },
  {
   "cell_type": "code",
   "execution_count": 3,
   "id": "a8c361a1",
   "metadata": {},
   "outputs": [
    {
     "ename": "NameError",
     "evalue": "name 'f' is not defined",
     "output_type": "error",
     "traceback": [
      "\u001b[1;31m---------------------------------------------------------------------------\u001b[0m",
      "\u001b[1;31mNameError\u001b[0m                                 Traceback (most recent call last)",
      "Cell \u001b[1;32mIn[3], line 4\u001b[0m\n\u001b[0;32m      2\u001b[0m l2\u001b[38;5;241m=\u001b[39m[\u001b[38;5;241m20\u001b[39m,\u001b[38;5;241m21\u001b[39m,\u001b[38;5;241m24\u001b[39m]\n\u001b[0;32m      3\u001b[0m \u001b[38;5;28;01mfor\u001b[39;00m i \u001b[38;5;129;01min\u001b[39;00m \u001b[38;5;28mrange\u001b[39m(\u001b[38;5;28mlen\u001b[39m(l1)):\n\u001b[1;32m----> 4\u001b[0m     \u001b[38;5;28mprint\u001b[39m(f,\u001b[38;5;124m\"\u001b[39m\u001b[38;5;132;01m{l1}\u001b[39;00m\u001b[38;5;124m id \u001b[39m\u001b[38;5;124m\"\u001b[39m)\n",
      "\u001b[1;31mNameError\u001b[0m: name 'f' is not defined"
     ]
    }
   ],
   "source": [
    "l1=[\"ramesh\",\"Suresh\",\"vikas\"]\n",
    "l2=[20,21,24]\n",
    "for i in range(len(l1)):\n",
    "    print(f,\"{l1} id \")"
   ]
  },
  {
   "cell_type": "code",
   "execution_count": null,
   "id": "00835f98",
   "metadata": {},
   "outputs": [],
   "source": [
    "s1=\"hi how are you\"\n",
    "for i in s1:\n",
    "    print(i)"
   ]
  },
  {
   "cell_type": "code",
   "execution_count": null,
   "id": "97d22848",
   "metadata": {},
   "outputs": [],
   "source": [
    "names=['Ramesh','Suresh','Sathish']\n",
    "age=[20,25,30]\n",
    "for i,j in zip(names,age):\n",
    "    print(i,j)"
   ]
  },
  {
   "cell_type": "code",
   "execution_count": null,
   "id": "45941ccf",
   "metadata": {},
   "outputs": [],
   "source": [
    "num=10,20"
   ]
  },
  {
   "cell_type": "code",
   "execution_count": null,
   "id": "6826c146",
   "metadata": {},
   "outputs": [],
   "source": [
    " names=['Ramesh','Suresh','Sathish']\n",
    "age=[20,25,30]\n",
    "maz"
   ]
  },
  {
   "cell_type": "code",
   "execution_count": null,
   "id": "d2ac6d05",
   "metadata": {},
   "outputs": [],
   "source": [
    "d2={20:\"Ramesh\",25:\"Suresh\",:\"Sathish\"}\n",
    "max(d2)"
   ]
  },
  {
   "cell_type": "code",
   "execution_count": null,
   "id": "9d2862e6",
   "metadata": {},
   "outputs": [],
   "source": [
    "d={20:21}\n",
    "d"
   ]
  },
  {
   "cell_type": "code",
   "execution_count": null,
   "id": "8d552dd1",
   "metadata": {},
   "outputs": [],
   "source": [
    "d2={20:\"Ramesh\",'Suresh':30}\n",
    "max(d2)"
   ]
  },
  {
   "cell_type": "code",
   "execution_count": null,
   "id": "c1d3d537",
   "metadata": {},
   "outputs": [],
   "source": [
    "d2={20:\"Ramesh\",'Suresh':30}\n",
    "d2.split()"
   ]
  },
  {
   "cell_type": "code",
   "execution_count": null,
   "id": "d749b323",
   "metadata": {},
   "outputs": [],
   "source": [
    "d2={20:\"Ramesh\",'Suresh':30}\n",
    "l(d2)"
   ]
  },
  {
   "cell_type": "code",
   "execution_count": null,
   "id": "98cd3525",
   "metadata": {},
   "outputs": [],
   "source": [
    "list(d2)"
   ]
  },
  {
   "cell_type": "code",
   "execution_count": 5,
   "id": "bd19f9cb",
   "metadata": {},
   "outputs": [
    {
     "ename": "AttributeError",
     "evalue": "'_io.TextIOWrapper' object has no attribute 'split'",
     "output_type": "error",
     "traceback": [
      "\u001b[1;31m---------------------------------------------------------------------------\u001b[0m",
      "\u001b[1;31mAttributeError\u001b[0m                            Traceback (most recent call last)",
      "Cell \u001b[1;32mIn[5], line 3\u001b[0m\n\u001b[0;32m      1\u001b[0m path\u001b[38;5;241m=\u001b[39m\u001b[38;5;124mr\u001b[39m\u001b[38;5;124m\"\u001b[39m\u001b[38;5;124mmbox-short.txt\u001b[39m\u001b[38;5;124m\"\u001b[39m\n\u001b[0;32m      2\u001b[0m file\u001b[38;5;241m=\u001b[39m\u001b[38;5;28mopen\u001b[39m(path)\n\u001b[1;32m----> 3\u001b[0m file\u001b[38;5;241m.\u001b[39msplit()[\u001b[38;5;241m0\u001b[39m]\n",
      "\u001b[1;31mAttributeError\u001b[0m: '_io.TextIOWrapper' object has no attribute 'split'"
     ]
    }
   ],
   "source": [
    "path=r\"mbox-short.txt\"\n",
    "file=open(path)\n",
    "file.split()[0]"
   ]
  },
  {
   "cell_type": "code",
   "execution_count": 7,
   "id": "ee800399",
   "metadata": {},
   "outputs": [
    {
     "ename": "NameError",
     "evalue": "name 'getcwd' is not defined",
     "output_type": "error",
     "traceback": [
      "\u001b[1;31m---------------------------------------------------------------------------\u001b[0m",
      "\u001b[1;31mNameError\u001b[0m                                 Traceback (most recent call last)",
      "Cell \u001b[1;32mIn[7], line 2\u001b[0m\n\u001b[0;32m      1\u001b[0m path\u001b[38;5;241m=\u001b[39m\u001b[38;5;124m\"\u001b[39m\u001b[38;5;124mmbox-short.txt\u001b[39m\u001b[38;5;124m\"\u001b[39m\n\u001b[1;32m----> 2\u001b[0m getcwd\u001b[38;5;241m.\u001b[39mpath()\n",
      "\u001b[1;31mNameError\u001b[0m: name 'getcwd' is not defined"
     ]
    }
   ],
   "source": [
    "path=\"mbox-short.txt\"\n",
    "getcwd.path()"
   ]
  },
  {
   "cell_type": "code",
   "execution_count": null,
   "id": "06f65a9e",
   "metadata": {},
   "outputs": [],
   "source": [
    "path=r\"C:\\Users\\akash\\Python_class_codes\\email.assignment.txt\"\n",
    "file=open(path,\n",
    "         mode='r')\n",
    "         # encoding='utf-8-sig'\n",
    "         \n",
    "data = file.read()\n",
    "data.strip()\n",
    "i=data.split(';')\n",
    "len(i)"
   ]
  }
 ],
 "metadata": {
  "kernelspec": {
   "display_name": "Python 3 (ipykernel)",
   "language": "python",
   "name": "python3"
  },
  "language_info": {
   "codemirror_mode": {
    "name": "ipython",
    "version": 3
   },
   "file_extension": ".py",
   "mimetype": "text/x-python",
   "name": "python",
   "nbconvert_exporter": "python",
   "pygments_lexer": "ipython3",
   "version": "3.11.5"
  }
 },
 "nbformat": 4,
 "nbformat_minor": 5
}
