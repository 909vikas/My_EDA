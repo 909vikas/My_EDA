{
 "cells": [
  {
   "cell_type": "code",
   "execution_count": 4,
   "id": "5794d771",
   "metadata": {},
   "outputs": [
    {
     "name": "stdout",
     "output_type": "stream",
     "text": [
      "Daughter;y\n",
      "Mom:f\n",
      "Daughter;f\n",
      "Mom:f\n",
      "Daughter;f\n",
      "Mom:f\n",
      "Conductor;f\n",
      "Mom:f\n",
      "Conductor;f\n",
      "Mom:f\n",
      "Conductor;f\n",
      "Mom:25\n",
      "enter the distance in km:25\n",
      "Mom:k\n",
      "per km 2rs charge\n",
      "25km*25km*\n"
     ]
    }
   ],
   "source": [
    "input(\"Daughter;\")\n",
    "input(\"Mom:\")\n",
    "input(\"Daughter;\")\n",
    "input(\"Mom:\")\n",
    "input(\"Daughter;\")\n",
    "input(\"Mom:\")\n",
    "input(\"Conductor;\")\n",
    "input(\"Mom:\")\n",
    "input(\"Conductor;\")\n",
    "input(\"Mom:\")\n",
    "input(\"Conductor;\")\n",
    "input(\"Mom:\")\n",
    "x=eval(input(\"enter the distance in km:\"))\n",
    "input(\"Mom:\")\n",
    "input(\"per km 2rs charge\")\n",
    "print(f\"{x}rs\")\n"
   ]
  },
  {
   "cell_type": "code",
   "execution_count": 1,
   "id": "b3b8faae",
   "metadata": {},
   "outputs": [
    {
     "name": "stdout",
     "output_type": "stream",
     "text": [
      "bar800\n",
      "yough\n"
     ]
    },
    {
     "ename": "NameError",
     "evalue": "name 'gh' is not defined",
     "output_type": "error",
     "traceback": [
      "\u001b[1;31m---------------------------------------------------------------------------\u001b[0m",
      "\u001b[1;31mNameError\u001b[0m                                 Traceback (most recent call last)",
      "Cell \u001b[1;32mIn[1], line 2\u001b[0m\n\u001b[0;32m      1\u001b[0m y\u001b[38;5;241m=\u001b[39m\u001b[38;5;28meval\u001b[39m(\u001b[38;5;28minput\u001b[39m(\u001b[38;5;124m\"\u001b[39m\u001b[38;5;124mbar\u001b[39m\u001b[38;5;124m\"\u001b[39m))\n\u001b[1;32m----> 2\u001b[0m x\u001b[38;5;241m=\u001b[39m\u001b[38;5;28meval\u001b[39m(\u001b[38;5;28minput\u001b[39m(\u001b[38;5;124m\"\u001b[39m\u001b[38;5;124myou\u001b[39m\u001b[38;5;124m\"\u001b[39m))\n\u001b[0;32m      3\u001b[0m dollars\u001b[38;5;241m=\u001b[39my\u001b[38;5;241m/\u001b[39mx\n\u001b[0;32m      4\u001b[0m \u001b[38;5;28mprint\u001b[39m(\u001b[38;5;124mf\u001b[39m\u001b[38;5;124m\"\u001b[39m\u001b[38;5;124mbar\u001b[39m\u001b[38;5;132;01m{\u001b[39;00mdollars\u001b[38;5;132;01m}\u001b[39;00m\u001b[38;5;124m\"\u001b[39m)\n",
      "File \u001b[1;32m<string>:1\u001b[0m\n",
      "\u001b[1;31mNameError\u001b[0m: name 'gh' is not defined"
     ]
    }
   ],
   "source": [
    "\n",
    "y=eval(input(\"bar\"))\n",
    "x=eval(input(\"you\"))\n",
    "dollars=y/x\n",
    "print(f\"bar{dollars}\")\n"
   ]
  },
  {
   "cell_type": "code",
   "execution_count": null,
   "id": "3954cbad",
   "metadata": {},
   "outputs": [],
   "source": [
    "x=2\n",
    "y=eval(input(\"to do:\"))\n",
    "total=x/y\n",
    "print(f\"total{total}\")"
   ]
  },
  {
   "cell_type": "code",
   "execution_count": 5,
   "id": "ddaad7e8",
   "metadata": {},
   "outputs": [
    {
     "ename": "SyntaxError",
     "evalue": "expected ':' (3028216435.py, line 2)",
     "output_type": "error",
     "traceback": [
      "\u001b[1;36m  Cell \u001b[1;32mIn[5], line 2\u001b[1;36m\u001b[0m\n\u001b[1;33m    if name=='python'\u001b[0m\n\u001b[1;37m                     ^\u001b[0m\n\u001b[1;31mSyntaxError\u001b[0m\u001b[1;31m:\u001b[0m expected ':'\n"
     ]
    }
   ],
   "source": [
    "name='python'\n",
    "if name=='python'"
   ]
  },
  {
   "cell_type": "code",
   "execution_count": 10,
   "id": "7582c107",
   "metadata": {},
   "outputs": [
    {
     "name": "stdout",
     "output_type": "stream",
     "text": [
      "pythonpython\n",
      "30\n"
     ]
    }
   ],
   "source": [
    "#name = 'python'\n",
    "name = input(\"python\")\n",
    "if name =='python': \n",
    "    a=10\n",
    "    b=20\n",
    "    c=a+b\n",
    "    print(c)"
   ]
  },
  {
   "cell_type": "code",
   "execution_count": 3,
   "id": "6ee3c511",
   "metadata": {},
   "outputs": [
    {
     "name": "stdout",
     "output_type": "stream",
     "text": [
      "vikas\n"
     ]
    }
   ],
   "source": [
    "name='python'\n",
    "if name=='python':\n",
    "    print(\"vikas\")"
   ]
  },
  {
   "cell_type": "code",
   "execution_count": 9,
   "id": "d1a5282a",
   "metadata": {},
   "outputs": [
    {
     "name": "stdout",
     "output_type": "stream",
     "text": [
      "hello\n"
     ]
    }
   ],
   "source": [
    "if True:\n",
    "    print(\"hello\")"
   ]
  },
  {
   "cell_type": "code",
   "execution_count": 12,
   "id": "fccb3008",
   "metadata": {},
   "outputs": [
    {
     "name": "stdout",
     "output_type": "stream",
     "text": [
      "54\n",
      "vikas\n",
      "hii\n",
      "bye\n"
     ]
    }
   ],
   "source": [
    "print(54)\n",
    "if True:\n",
    "    print(\"vikas\")\n",
    "    print(\"hii\")\n",
    "print(\"bye\")    "
   ]
  },
  {
   "cell_type": "code",
   "execution_count": 16,
   "id": "1987e030",
   "metadata": {},
   "outputs": [
    {
     "name": "stdout",
     "output_type": "stream",
     "text": [
      "enter the number: 0\n",
      "even\n"
     ]
    }
   ],
   "source": [
    "x=eval(input(\"enter the number: \"))\n",
    "if x%2==0:\n",
    "    print(\"even\")\n",
    "    \n",
    "else:\n",
    "    print(\"odd\")"
   ]
  },
  {
   "cell_type": "code",
   "execution_count": null,
   "id": "b3eb5252",
   "metadata": {},
   "outputs": [],
   "source": []
  }
 ],
 "metadata": {
  "kernelspec": {
   "display_name": "Python 3 (ipykernel)",
   "language": "python",
   "name": "python3"
  },
  "language_info": {
   "codemirror_mode": {
    "name": "ipython",
    "version": 3
   },
   "file_extension": ".py",
   "mimetype": "text/x-python",
   "name": "python",
   "nbconvert_exporter": "python",
   "pygments_lexer": "ipython3",
   "version": "3.11.5"
  }
 },
 "nbformat": 4,
 "nbformat_minor": 5
}
