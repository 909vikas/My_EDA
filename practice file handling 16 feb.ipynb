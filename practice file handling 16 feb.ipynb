{
 "cells": [
  {
   "cell_type": "code",
   "execution_count": null,
   "id": "9764da37",
   "metadata": {},
   "outputs": [],
   "source": [
    "#path=\"mbox-short.txt\"\n",
    "#file=open(path)\n",
    "#file.read()\n",
    "#print(file.read())"
   ]
  },
  {
   "cell_type": "code",
   "execution_count": null,
   "id": "7c3771fd",
   "metadata": {},
   "outputs": [],
   "source": [
    "path=\"vikas.txt\"\n",
    "v = open(path,mode='w')\n",
    "v.write(\"hello vikas\")"
   ]
  },
  {
   "cell_type": "code",
   "execution_count": null,
   "id": "d38ab608",
   "metadata": {},
   "outputs": [],
   "source": [
    "vik=\"1,2,5,6\"\n",
    "vik.slice()"
   ]
  },
  {
   "cell_type": "markdown",
   "id": "4af6c1db",
   "metadata": {},
   "source": [
    "# vikas"
   ]
  },
  {
   "cell_type": "code",
   "execution_count": null,
   "id": "2de794bc",
   "metadata": {},
   "outputs": [],
   "source": [
    "path=\"emails.txt\"\n",
    "files=open(path)\n",
    "v=\"\"\n",
    "#print(files.read())\n",
    "files.split()\n",
    "for i in files:\n",
    "    if \",\" in i:\n",
    "        v=v+i\n",
    "       \n",
    "v       "
   ]
  },
  {
   "cell_type": "code",
   "execution_count": null,
   "id": "ed498aa2",
   "metadata": {},
   "outputs": [],
   "source": [
    "v=[\"randi\",\" vikas\"]\n",
    "v.split()\n",
    "v"
   ]
  },
  {
   "cell_type": "code",
   "execution_count": null,
   "id": "9f12c04c",
   "metadata": {},
   "outputs": [],
   "source": [
    "dir(\"\")"
   ]
  },
  {
   "cell_type": "code",
   "execution_count": null,
   "id": "ce4c8dd0",
   "metadata": {},
   "outputs": [],
   "source": [
    "path=r\"C:\\Users\\akash\\Python_class_codes\\vikku.txt\"\n",
    "with open(path,mode=\"w\") as vi:\n",
    "    print(vi.write(\"python\"))"
   ]
  },
  {
   "cell_type": "code",
   "execution_count": null,
   "id": "138f926d",
   "metadata": {},
   "outputs": [],
   "source": [
    "import os \n",
    "os.getcwd()"
   ]
  },
  {
   "cell_type": "code",
   "execution_count": null,
   "id": "818a2d96",
   "metadata": {},
   "outputs": [],
   "source": [
    "path=r\"C:\\Users\\akash\\Python_class_codes\\mbox-short.txt\"\n",
    "with open(path) as vi:\n",
    "    print(vi.read())"
   ]
  },
  {
   "cell_type": "code",
   "execution_count": null,
   "id": "299d422d",
   "metadata": {},
   "outputs": [],
   "source": [
    "path=r\"C:\\Users\\akash\\Python_class_codes\\mbox-short.txt\"\n",
    "vikas=open(path)\n",
    "count=0\n",
    "for i in vikas:\n",
    "    count=count+1\n",
    "count    \n",
    "    "
   ]
  },
  {
   "cell_type": "code",
   "execution_count": null,
   "id": "bc28ef12",
   "metadata": {},
   "outputs": [],
   "source": [
    "path=r\"C:\\Users\\akash\\Python_class_codes\\mbox-short.txt\"\n",
    "vikas=open(path)\n",
    "count=0\n",
    "for i in vikas:\n",
    "    \n",
    "    print(i)\n",
    "    count=count+1\n",
    "    if count==10:\n",
    "        break\n",
    "       "
   ]
  },
  {
   "cell_type": "code",
   "execution_count": null,
   "id": "7abb0254",
   "metadata": {},
   "outputs": [],
   "source": [
    "path=r\"C:\\Users\\akash\\Python_class_codes\\mbox-short.txt\"\n",
    "vikas=open(path)\n",
    "count=0\n",
    "for index,i in enumerate(vikas):\n",
    "    \n",
    "    print(index,i)\n",
    "    count=count+1\n",
    "    if count==10:\n",
    "        break"
   ]
  },
  {
   "cell_type": "code",
   "execution_count": 4,
   "id": "f8aaeb29",
   "metadata": {},
   "outputs": [
    {
     "name": "stdout",
     "output_type": "stream",
     "text": [
      "0\n",
      "1\n",
      "2\n",
      "3\n",
      "4\n",
      "5\n",
      "6\n",
      "7\n",
      "8\n",
      "9\n",
      "10\n"
     ]
    }
   ],
   "source": [
    "path=r\"C:\\Users\\akash\\Python_class_codes\\mbox-short.txt\"\n",
    "vikas=open(path)\n",
    "\n",
    "for index,_ in enumerate(vikas):\n",
    "    print(index)\n",
    "    count=count+1\n",
    "    if index==10:\n",
    "        break"
   ]
  },
  {
   "cell_type": "code",
   "execution_count": 6,
   "id": "7e019d7d",
   "metadata": {},
   "outputs": [
    {
     "name": "stdout",
     "output_type": "stream",
     "text": [
      "0 ï»¿From stephen.marquard@uct.ac.za Sat Jan  5 09:14:16 2008\n",
      "\n",
      "1 Return-Path: <postmaster@collab.sakaiproject.org>\n",
      "\n",
      "2 Received: from murder (mail.umich.edu [141.211.14.90])\n",
      "\n",
      "3          by frankenstein.mail.umich.edu (Cyrus v2.3.8) with LMTPA;\n",
      "\n",
      "4          Sat, 05 Jan 2008 09:14:16 -0500\n",
      "\n",
      "5 X-Sieve: CMU Sieve 2.3\n",
      "\n",
      "6 Received: from murder ([unix socket])\n",
      "\n",
      "7          by mail.umich.edu (Cyrus v2.2.12) with LMTPA;\n",
      "\n",
      "8          Sat, 05 Jan 2008 09:14:16 -0500\n",
      "\n",
      "9 Received: from holes.mr.itd.umich.edu (holes.mr.itd.umich.edu [141.211.14.79])\n",
      "\n"
     ]
    }
   ],
   "source": [
    "path=r\"C:\\Users\\akash\\Python_class_codes\\mbox-short.txt\"\n",
    "vikas=open(path)\n",
    "count=0\n",
    "for index,i in enumerate(vikas):\n",
    "    print(index,i)\n",
    "    count=count+1\n",
    "    if count==10:\n",
    "        break"
   ]
  },
  {
   "cell_type": "code",
   "execution_count": 11,
   "id": "45f887f9",
   "metadata": {},
   "outputs": [
    {
     "name": "stdout",
     "output_type": "stream",
     "text": [
      "From: stephen.marquard@uct.ac.za\n",
      "\n",
      "From louis@media.berkeley.edu Fri Jan  4 18:10:48 2008\n",
      "\n",
      "From: louis@media.berkeley.edu\n",
      "\n",
      "From zqian@umich.edu Fri Jan  4 16:10:39 2008\n",
      "\n",
      "From: zqian@umich.edu\n",
      "\n",
      "From rjlowe@iupui.edu Fri Jan  4 15:46:24 2008\n",
      "\n",
      "From: rjlowe@iupui.edu\n",
      "\n",
      "From zqian@umich.edu Fri Jan  4 15:03:18 2008\n",
      "\n",
      "From: zqian@umich.edu\n",
      "\n",
      "From rjlowe@iupui.edu Fri Jan  4 14:50:18 2008\n",
      "\n",
      "From: rjlowe@iupui.edu\n",
      "\n",
      "From cwen@iupui.edu Fri Jan  4 11:37:30 2008\n",
      "\n",
      "From: cwen@iupui.edu\n",
      "\n",
      "From cwen@iupui.edu Fri Jan  4 11:35:08 2008\n",
      "\n",
      "From: cwen@iupui.edu\n",
      "\n",
      "From gsilver@umich.edu Fri Jan  4 11:12:37 2008\n",
      "\n",
      "From: gsilver@umich.edu\n",
      "\n",
      "From gsilver@umich.edu Fri Jan  4 11:11:52 2008\n",
      "\n",
      "From: gsilver@umich.edu\n",
      "\n",
      "From zqian@umich.edu Fri Jan  4 11:11:03 2008\n",
      "\n",
      "From: zqian@umich.edu\n",
      "\n",
      "From gsilver@umich.edu Fri Jan  4 11:10:22 2008\n",
      "\n",
      "From: gsilver@umich.edu\n",
      "\n",
      "From wagnermr@iupui.edu Fri Jan  4 10:38:42 2008\n",
      "\n",
      "From: wagnermr@iupui.edu\n",
      "\n",
      "From zqian@umich.edu Fri Jan  4 10:17:43 2008\n",
      "\n",
      "From: zqian@umich.edu\n",
      "\n",
      "From antranig@caret.cam.ac.uk Fri Jan  4 10:04:14 2008\n",
      "\n",
      "From: antranig@caret.cam.ac.uk\n",
      "\n",
      "From gopal.ramasammycook@gmail.com Fri Jan  4 09:05:31 2008\n",
      "\n",
      "From: gopal.ramasammycook@gmail.com\n",
      "\n",
      "From david.horwitz@uct.ac.za Fri Jan  4 07:02:32 2008\n",
      "\n",
      "From: david.horwitz@uct.ac.za\n",
      "\n",
      "From david.horwitz@uct.ac.za Fri Jan  4 06:08:27 2008\n",
      "\n",
      "From: david.horwitz@uct.ac.za\n",
      "\n",
      "From david.horwitz@uct.ac.za Fri Jan  4 04:49:08 2008\n",
      "\n",
      "From: david.horwitz@uct.ac.za\n",
      "\n",
      "From david.horwitz@uct.ac.za Fri Jan  4 04:33:44 2008\n",
      "\n",
      "From: david.horwitz@uct.ac.za\n",
      "\n",
      "From stephen.marquard@uct.ac.za Fri Jan  4 04:07:34 2008\n",
      "\n",
      "From: stephen.marquard@uct.ac.za\n",
      "\n",
      "From louis@media.berkeley.edu Thu Jan  3 19:51:21 2008\n",
      "\n",
      "From: louis@media.berkeley.edu\n",
      "\n",
      "From louis@media.berkeley.edu Thu Jan  3 17:18:23 2008\n",
      "\n",
      "From: louis@media.berkeley.edu\n",
      "\n",
      "From ray@media.berkeley.edu Thu Jan  3 17:07:00 2008\n",
      "\n",
      "From: ray@media.berkeley.edu\n",
      "\n",
      "From cwen@iupui.edu Thu Jan  3 16:34:40 2008\n",
      "\n",
      "From: cwen@iupui.edu\n",
      "\n",
      "From cwen@iupui.edu Thu Jan  3 16:29:07 2008\n",
      "\n",
      "From: cwen@iupui.edu\n",
      "\n",
      "From cwen@iupui.edu Thu Jan  3 16:23:48 2008\n",
      "\n",
      "From: cwen@iupui.edu\n",
      "\n"
     ]
    }
   ],
   "source": [
    "path=r\"C:\\Users\\akash\\Python_class_codes\\mbox-short.txt\"\n",
    "vikas=open(path)\n",
    "count=0\n",
    "for x in vikas:\n",
    "    \n",
    "    if x.startswith(\"From\"):\n",
    "        print(x)"
   ]
  },
  {
   "cell_type": "code",
   "execution_count": 23,
   "id": "c4bd06db",
   "metadata": {},
   "outputs": [
    {
     "data": {
      "text/plain": [
       "[]"
      ]
     },
     "execution_count": 23,
     "metadata": {},
     "output_type": "execute_result"
    }
   ],
   "source": [
    "path=r\"C:\\Users\\akash\\Python_class_codes\\mbox-short.txt\"\n",
    "vikas=open(path)\n",
    "y=[x for x in vikas if x.startswith(\"From\")]\n",
    "\n",
    "list2=[]\n",
    "for v in list2:\n",
    "    list2.append(line.rstrip('\\n'))\n",
    "list2    "
   ]
  },
  {
   "cell_type": "code",
   "execution_count": 37,
   "id": "96428d5b",
   "metadata": {},
   "outputs": [
    {
     "ename": "AttributeError",
     "evalue": "'list' object has no attribute 'rstrip'",
     "output_type": "error",
     "traceback": [
      "\u001b[1;31m---------------------------------------------------------------------------\u001b[0m",
      "\u001b[1;31mAttributeError\u001b[0m                            Traceback (most recent call last)",
      "Cell \u001b[1;32mIn[37], line 3\u001b[0m\n\u001b[0;32m      1\u001b[0m list2\u001b[38;5;241m=\u001b[39m[]\n\u001b[0;32m      2\u001b[0m \u001b[38;5;28;01mfor\u001b[39;00m v \u001b[38;5;129;01min\u001b[39;00m y:\n\u001b[1;32m----> 3\u001b[0m     list2\u001b[38;5;241m.\u001b[39mappend(y\u001b[38;5;241m.\u001b[39mrstrip(\u001b[38;5;124m'\u001b[39m\u001b[38;5;130;01m\\n\u001b[39;00m\u001b[38;5;124m'\u001b[39m))\n\u001b[0;32m      4\u001b[0m list2\n",
      "\u001b[1;31mAttributeError\u001b[0m: 'list' object has no attribute 'rstrip'"
     ]
    }
   ],
   "source": [
    "list2=[]\n",
    "for v in y:\n",
    "    list2.append(y.rstrip('\\n'))\n",
    "list2 "
   ]
  },
  {
   "cell_type": "markdown",
   "id": "9797e274",
   "metadata": {},
   "source": [
    "## path=r\"C:\\Users\\akash\\Python_class_codes\\mbox-short.txt\"\n",
    "vikas=open(path)\n",
    "y=[x for x in vikas if x.startswith(\"From\")]\n",
    "li=[t.rstrip('\\n') for t in y]\n",
    "li    "
   ]
  },
  {
   "cell_type": "code",
   "execution_count": 1,
   "id": "aaaac55d",
   "metadata": {},
   "outputs": [
    {
     "data": {
      "text/plain": [
       "37"
      ]
     },
     "execution_count": 1,
     "metadata": {},
     "output_type": "execute_result"
    }
   ],
   "source": [
    "path=r\"C:\\Users\\akash\\Python_class_codes\\mbox-short.txt\"\n",
    "vikas=open(path)\n",
    "y=[x for x in vikas if x.startswith(\"From\")]\n",
    "li=[t.rstrip('\\n') for t in y]\n",
    "l2=[]\n",
    "for i in li:\n",
    "    if i not in l2:\n",
    "        l2.append(i)\n",
    "len(l2)        "
   ]
  },
  {
   "cell_type": "code",
   "execution_count": 34,
   "id": "9989b47a",
   "metadata": {},
   "outputs": [],
   "source": [
    "path=r\"C:\\Users\\akash\\Python_class_codes\\email.assignment.txt\"\n",
    "file=open(path,\n",
    "         mode='r',\n",
    "          encoding='utf-8-sig'\n",
    "         ) \n",
    "data = file.read()\n",
    "data.strip()\n",
    "list1=data.split(';')\n",
    "#s[0].split(\",\")[0]\n"
   ]
  },
  {
   "cell_type": "code",
   "execution_count": 42,
   "id": "958dca5d",
   "metadata": {},
   "outputs": [
    {
     "name": "stdout",
     "output_type": "stream",
     "text": [
      "Santhanam >  Jayendhran  > jayendhran.ms@accenture.com > accenture\n",
      " Bhattacharjee >  Sankalan  > s.t.bhattacharjee@accenture.com > accenture\n",
      " Bansal >  Vaishnavi  > vaishnavi.a.bansal@accenture.com > accenture\n",
      " Chandra Shekhar >  Pavuluri  > p.a.chandra.shekhar@accenture.com > accenture\n",
      " J Doshi >  Hiren  > hiren.j.doshi@accenture.com > accenture\n",
      " Shimoga Prakash >  Jeevan  > j.shimoga.prakash@accenture.com > accenture\n",
      " Akhouri >  Shreyash  > shreyash.akhouri@accenture.com > accenture\n",
      " Nath >  Nupanga  > nupanga.nath@accenture.com > accenture\n",
      " Ponna >  Ramesh  > r.ponna@accenture.com > accenture\n",
      " Singhal >  Aditya  > aditya.d.singhal@accenture.com > accenture\n",
      " Gorai >  Sumit  > sumit.gorai@accenture.com > accenture\n",
      " Valdez >  Mariele Dyan Francely  > mariele.dyan.valdez@accenture.com > accenture\n",
      " Cancel >  Abigail Kyle  > abigail.kyle.cancel@accenture.com > accenture\n",
      " BONDALAKUNTA >  POOJITHA  > p.bondalakunta@accenture.com > accenture\n",
      " priyanka uppala >  sai  > sai.priyanka.uppala@accenture.com > accenture\n",
      " Nitin SHINDE >  NIKHIL  > nikhil.nitin.shinde@accenture.com > accenture\n",
      " Chidre >  Swapna  > swapna.chidre@accenture.com > accenture\n",
      " Sahu >  Swastik  > s.satyapragyan.sahu@accenture.com > accenture\n",
      " Sikka >  Ankit  > ankit.sikka@accenture.com > accenture\n",
      " Dara >  Sai Madhukar  > sai.madhukar.dara@accenture.com > accenture\n",
      " Pattanshetti >  Sampreet  > s.pattanshetti@accenture.com > accenture\n",
      " Sharma >  Ayush  > ayush.ad.sharma@accenture.com > accenture\n",
      " Latorena >  Zairous Jay  > zairous.jay.latorena@accenture.com > accenture\n",
      " Abhimanyu Pradhan >  Roshankumar  > r.abhimanyu.pradhan@accenture.com > accenture\n",
      " Jaiswal >  Lehar  > lehar.jaiswal@accenture.com > accenture\n",
      " Gupta >  Retik  > retik.gupta@accenture.com > accenture\n",
      " Satti >  Phanindra Reddy  > phanindra.r.satti@accenture.com > accenture\n",
      " Kumar >  Manish  > manish.dw.kumar@accenture.com > accenture\n",
      " Balakrishnan >  Devi Priya  > devi.p.balakrishnan@accenture.com > accenture\n",
      " M S >  Roshni Priya  > roshni.priya.m.s@accenture.com > accenture\n",
      " Cheerala >  Vanaja  > vanaja.cheerala@accenture.com > accenture\n",
      " G D >  Chandrashekhar  > chandrashekhar.g.d@accenture.com > accenture\n",
      " Nikhil Reddy >  Madithati  > m.nikhil.reddy@accenture.com > accenture\n",
      " Santos >  Jeroshelle V.  > jeroshelle.v.santos@accenture.com > accenture\n",
      " Milan >  Gerald John  > gerald.john.milan@accenture.com > accenture\n",
      " Gupta >  Vivek  > vivek.u.gupta@accenture.com > accenture\n",
      " Mandal >  Sumit  > s.sunilkumar.mandal@accenture.com > accenture\n",
      " Prakash Shukla >  Ashok  > ashok.prakash.shukla@accenture.com > accenture\n",
      " Naganathan >  Siva  > sivakumar.naganathan@accenture.com > accenture\n",
      " GAHLOT >  NIKHIL  > nikhil.gahlot@accenture.com > accenture\n",
      " Kanjilal >  Sourav  > s.a.kanti.kanjilal@accenture.com > accenture\n",
      " Nallagoni >  Omkar  > omkar.nallagoni@accenture.com > accenture\n",
      " Sahajan >  Sandra  > sandra.sahajan@accenture.com > accenture\n",
      " Nelluri >  Chaitanya  > chaitanya.nelluri@accenture.com > accenture\n"
     ]
    }
   ],
   "source": [
    "path=r\"C:\\Users\\akash\\Python_class_codes\\email.assignment.txt\"\n",
    "file=open(path,\n",
    "         mode='r')\n",
    "         # encoding='utf-8-sig'\n",
    "         \n",
    "data = file.read()\n",
    "data.strip()\n",
    "i=data.split(';')\n",
    "for i in list1:\n",
    "    i1 = i.index(',')\n",
    "    i2 = i.index('<')\n",
    "    i3 = i.index('>')\n",
    "    i4 = i.index('@')\n",
    "    i5 = i.index('.com')\n",
    "    fname = i[:i1]\n",
    "    sname = i[i1+1:i2]\n",
    "    mail = i[i2+1:i3]\n",
    "    company = i[i4+1:i5]\n",
    "    print(fname,'>',sname,'>',mail,'>',company)"
   ]
  },
  {
   "cell_type": "code",
   "execution_count": null,
   "id": "6f365501",
   "metadata": {},
   "outputs": [],
   "source": []
  }
 ],
 "metadata": {
  "kernelspec": {
   "display_name": "Python 3 (ipykernel)",
   "language": "python",
   "name": "python3"
  },
  "language_info": {
   "codemirror_mode": {
    "name": "ipython",
    "version": 3
   },
   "file_extension": ".py",
   "mimetype": "text/x-python",
   "name": "python",
   "nbconvert_exporter": "python",
   "pygments_lexer": "ipython3",
   "version": "3.11.5"
  }
 },
 "nbformat": 4,
 "nbformat_minor": 5
}
