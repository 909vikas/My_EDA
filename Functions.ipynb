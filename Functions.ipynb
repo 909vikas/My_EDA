{
 "cells": [
  {
   "cell_type": "code",
   "execution_count": 4,
   "id": "d6146aee",
   "metadata": {},
   "outputs": [],
   "source": [
    "def summ():\n",
    "    num1=eval(input(\"1st num\"))\n",
    "    num2=eval(input(\"2nd num\"))\n",
    "    print(num12+num2)\n",
    "    "
   ]
  },
  {
   "cell_type": "code",
   "execution_count": 5,
   "id": "372bd7e3",
   "metadata": {},
   "outputs": [
    {
     "name": "stdout",
     "output_type": "stream",
     "text": [
      "1st num5\n",
      "2nd num7\n"
     ]
    },
    {
     "ename": "NameError",
     "evalue": "name 'num12' is not defined",
     "output_type": "error",
     "traceback": [
      "\u001b[1;31m---------------------------------------------------------------------------\u001b[0m",
      "\u001b[1;31mNameError\u001b[0m                                 Traceback (most recent call last)",
      "Cell \u001b[1;32mIn[5], line 1\u001b[0m\n\u001b[1;32m----> 1\u001b[0m summ()\n",
      "Cell \u001b[1;32mIn[4], line 4\u001b[0m, in \u001b[0;36msumm\u001b[1;34m()\u001b[0m\n\u001b[0;32m      2\u001b[0m num1\u001b[38;5;241m=\u001b[39m\u001b[38;5;28meval\u001b[39m(\u001b[38;5;28minput\u001b[39m(\u001b[38;5;124m\"\u001b[39m\u001b[38;5;124m1st num\u001b[39m\u001b[38;5;124m\"\u001b[39m))\n\u001b[0;32m      3\u001b[0m num2\u001b[38;5;241m=\u001b[39m\u001b[38;5;28meval\u001b[39m(\u001b[38;5;28minput\u001b[39m(\u001b[38;5;124m\"\u001b[39m\u001b[38;5;124m2nd num\u001b[39m\u001b[38;5;124m\"\u001b[39m))\n\u001b[1;32m----> 4\u001b[0m \u001b[38;5;28mprint\u001b[39m(num12\u001b[38;5;241m+\u001b[39mnum2)\n",
      "\u001b[1;31mNameError\u001b[0m: name 'num12' is not defined"
     ]
    }
   ],
   "source": [
    "summ()"
   ]
  },
  {
   "cell_type": "code",
   "execution_count": 8,
   "id": "22728f2b",
   "metadata": {},
   "outputs": [
    {
     "name": "stdout",
     "output_type": "stream",
     "text": [
      "enter 14\n",
      "enter 26\n",
      "enter 37\n",
      "5.667\n"
     ]
    }
   ],
   "source": [
    "\n",
    "def vik():\n",
    "    n1=eval(input(\"enter 1\"))\n",
    "    n2=eval(input(\"enter 2\"))\n",
    "    n3=eval(input(\"enter 3\"))\n",
    "    av=(n1+n2+n3)/3\n",
    "    ou=round(av,3)\n",
    "    print(ou)\n",
    "   \n",
    "\n",
    "vik()"
   ]
  },
  {
   "cell_type": "code",
   "execution_count": null,
   "id": "17c8cc9f",
   "metadata": {},
   "outputs": [],
   "source": []
  }
 ],
 "metadata": {
  "kernelspec": {
   "display_name": "Python 3 (ipykernel)",
   "language": "python",
   "name": "python3"
  },
  "language_info": {
   "codemirror_mode": {
    "name": "ipython",
    "version": 3
   },
   "file_extension": ".py",
   "mimetype": "text/x-python",
   "name": "python",
   "nbconvert_exporter": "python",
   "pygments_lexer": "ipython3",
   "version": "3.11.5"
  }
 },
 "nbformat": 4,
 "nbformat_minor": 5
}
